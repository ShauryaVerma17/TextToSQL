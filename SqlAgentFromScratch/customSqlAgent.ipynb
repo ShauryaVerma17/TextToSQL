{
 "cells": [
  {
   "cell_type": "code",
   "execution_count": 10,
   "metadata": {},
   "outputs": [],
   "source": [
    "from langchain_community.embeddings import OllamaEmbeddings\n",
    "from langchain_community.vectorstores import FAISS\n",
    "from openai import OpenAI\n",
    "from dotenv import load_dotenv\n",
    "import os\n",
    "import sqlite3\n",
    "import pandas as pd\n",
    "from langchain_text_splitters import CharacterTextSplitter\n"
   ]
  },
  {
   "cell_type": "code",
   "execution_count": 3,
   "metadata": {},
   "outputs": [],
   "source": [
    "openai = OpenAI(\n",
    "    api_key= \"-TjFCsia_r7.oivr6in~4ZJ\", # Refer to Create a secret key section\n",
    "    base_url=\"https://cloud.olakrutrim.com/v1\",\n",
    ")"
   ]
  },
  {
   "cell_type": "code",
   "execution_count": 4,
   "metadata": {},
   "outputs": [],
   "source": [
    "db_conn = sqlite3.connect(\"chinook.db\")\n",
    "result = pd.read_sql_query(\"SELECT type, sql FROM sqlite_master WHERE sql is not null\", db_conn)"
   ]
  },
  {
   "cell_type": "code",
   "execution_count": 5,
   "metadata": {},
   "outputs": [],
   "source": [
    "db = FAISS.from_texts(result['sql'].to_list(), OllamaEmbeddings(model=\"nomic-embed-text\"))"
   ]
  },
  {
   "cell_type": "code",
   "execution_count": 6,
   "metadata": {},
   "outputs": [],
   "source": [
    "question = \"How many customers are from brazil\"\n",
    "embedder = OllamaEmbeddings(model=\"nomic-embed-text\")\n",
    "q = embedder.embed_query(question)\n",
    "a = db.similarity_search_by_vector(q, k=2)"
   ]
  },
  {
   "cell_type": "code",
   "execution_count": 18,
   "metadata": {},
   "outputs": [],
   "source": [
    "def combineDocs(docs):\n",
    "    context = \"\\n\\n\".join(f'{doc.page_content}' for doc in docs)\n",
    "    return context"
   ]
  },
  {
   "cell_type": "code",
   "execution_count": 24,
   "metadata": {},
   "outputs": [],
   "source": [
    "info = combineDocs(a)"
   ]
  },
  {
   "cell_type": "code",
   "execution_count": 23,
   "metadata": {},
   "outputs": [],
   "source": [
    "chat_completion = openai.chat.completions.create(\n",
    "    model=\"Meta-Llama-3-8B-Instruct\",\n",
    "    messages=[\n",
    "    {\"role\": \"system\", \"content\": f\"\"\"'You are a SQLite expert. Please help to generate a SQL query to answer the question. Your response should ONLY be based on the given context and follow the response guidelines and format instructions. {info} ===Response Guidelines \\n1. If the provided context is sufficient, please generate a valid SQL query without any explanations for the question. \\n2. If the provided context is almost sufficient but requires knowledge of a specific string in a particular column, please generate an intermediate SQL query to find the distinct strings in that column. Prepend the query with a comment saying intermediate_sql \\n3. If the provided context is insufficient, please explain why it can\\'t be generated. \\n4. Please use the most relevant table(s). \\n5. If the question has been asked and answered before, please repeat the answer exactly as it was given before. \\n6. Ensure that the output SQL is SQLite-compliant and executable, and free of syntax errors. \\n'\"\"\"},\n",
    "    {\"role\": \"user\", \"content\": question}\n",
    "    ],\n",
    "    logit_bias= {2435: -100, 640: -100},\n",
    "    max_tokens= 2000,\n",
    "    temperature= 0, # Optional, Defaults to 1. Range: 0 to 2\n",
    "    top_p= 1 # Optional, Defaults to 1. It is generally recommended to alter this or temperature but not both.\n",
    ")\n",
    "\n",
    "response = chat_completion.choices[0].message.content"
   ]
  },
  {
   "cell_type": "code",
   "execution_count": 21,
   "metadata": {},
   "outputs": [
    {
     "name": "stdout",
     "output_type": "stream",
     "text": [
      "CREATE INDEX [IFK_CustomerSupportRepId] ON \"customers\" ([SupportRepId])\n",
      "\n",
      "CREATE TABLE \"customers\"\n",
      "(\n",
      "    [CustomerId] INTEGER PRIMARY KEY AUTOINCREMENT NOT NULL,\n",
      "    [FirstName] NVARCHAR(40)  NOT NULL,\n",
      "    [LastName] NVARCHAR(20)  NOT NULL,\n",
      "    [Company] NVARCHAR(80),\n",
      "    [Address] NVARCHAR(70),\n",
      "    [City] NVARCHAR(40),\n",
      "    [State] NVARCHAR(40),\n",
      "    [Country] NVARCHAR(40),\n",
      "    [PostalCode] NVARCHAR(10),\n",
      "    [Phone] NVARCHAR(24),\n",
      "    [Fax] NVARCHAR(24),\n",
      "    [Email] NVARCHAR(60)  NOT NULL,\n",
      "    [SupportRepId] INTEGER,\n",
      "    FOREIGN KEY ([SupportRepId]) REFERENCES \"employees\" ([EmployeeId]) \n",
      "\t\tON DELETE NO ACTION ON UPDATE NO ACTION\n",
      ")\n"
     ]
    }
   ],
   "source": [
    "print(info)"
   ]
  },
  {
   "cell_type": "code",
   "execution_count": 25,
   "metadata": {},
   "outputs": [
    {
     "data": {
      "text/plain": [
       "'CREATE INDEX [IFK_CustomerSupportRepId] ON \"customers\" ([SupportRepId])\\n\\nCREATE TABLE \"customers\"\\r\\n(\\r\\n    [CustomerId] INTEGER PRIMARY KEY AUTOINCREMENT NOT NULL,\\r\\n    [FirstName] NVARCHAR(40)  NOT NULL,\\r\\n    [LastName] NVARCHAR(20)  NOT NULL,\\r\\n    [Company] NVARCHAR(80),\\r\\n    [Address] NVARCHAR(70),\\r\\n    [City] NVARCHAR(40),\\r\\n    [State] NVARCHAR(40),\\r\\n    [Country] NVARCHAR(40),\\r\\n    [PostalCode] NVARCHAR(10),\\r\\n    [Phone] NVARCHAR(24),\\r\\n    [Fax] NVARCHAR(24),\\r\\n    [Email] NVARCHAR(60)  NOT NULL,\\r\\n    [SupportRepId] INTEGER,\\r\\n    FOREIGN KEY ([SupportRepId]) REFERENCES \"employees\" ([EmployeeId]) \\r\\n\\t\\tON DELETE NO ACTION ON UPDATE NO ACTION\\r\\n)'"
      ]
     },
     "execution_count": 25,
     "metadata": {},
     "output_type": "execute_result"
    }
   ],
   "source": [
    "info"
   ]
  },
  {
   "cell_type": "code",
   "execution_count": 26,
   "metadata": {},
   "outputs": [
    {
     "data": {
      "text/plain": [
       "[Document(page_content='CREATE INDEX [IFK_CustomerSupportRepId] ON \"customers\" ([SupportRepId])'),\n",
       " Document(page_content='CREATE TABLE \"customers\"\\r\\n(\\r\\n    [CustomerId] INTEGER PRIMARY KEY AUTOINCREMENT NOT NULL,\\r\\n    [FirstName] NVARCHAR(40)  NOT NULL,\\r\\n    [LastName] NVARCHAR(20)  NOT NULL,\\r\\n    [Company] NVARCHAR(80),\\r\\n    [Address] NVARCHAR(70),\\r\\n    [City] NVARCHAR(40),\\r\\n    [State] NVARCHAR(40),\\r\\n    [Country] NVARCHAR(40),\\r\\n    [PostalCode] NVARCHAR(10),\\r\\n    [Phone] NVARCHAR(24),\\r\\n    [Fax] NVARCHAR(24),\\r\\n    [Email] NVARCHAR(60)  NOT NULL,\\r\\n    [SupportRepId] INTEGER,\\r\\n    FOREIGN KEY ([SupportRepId]) REFERENCES \"employees\" ([EmployeeId]) \\r\\n\\t\\tON DELETE NO ACTION ON UPDATE NO ACTION\\r\\n)')]"
      ]
     },
     "execution_count": 26,
     "metadata": {},
     "output_type": "execute_result"
    }
   ],
   "source": [
    "a"
   ]
  },
  {
   "cell_type": "code",
   "execution_count": 27,
   "metadata": {},
   "outputs": [
    {
     "data": {
      "text/plain": [
       "['CREATE TABLE \"albums\"\\r\\n(\\r\\n    [AlbumId] INTEGER PRIMARY KEY AUTOINCREMENT NOT NULL,\\r\\n    [Title] NVARCHAR(160)  NOT NULL,\\r\\n    [ArtistId] INTEGER  NOT NULL,\\r\\n    FOREIGN KEY ([ArtistId]) REFERENCES \"artists\" ([ArtistId]) \\r\\n\\t\\tON DELETE NO ACTION ON UPDATE NO ACTION\\r\\n)',\n",
       " 'CREATE TABLE sqlite_sequence(name,seq)',\n",
       " 'CREATE TABLE \"artists\"\\r\\n(\\r\\n    [ArtistId] INTEGER PRIMARY KEY AUTOINCREMENT NOT NULL,\\r\\n    [Name] NVARCHAR(120)\\r\\n)',\n",
       " 'CREATE TABLE \"customers\"\\r\\n(\\r\\n    [CustomerId] INTEGER PRIMARY KEY AUTOINCREMENT NOT NULL,\\r\\n    [FirstName] NVARCHAR(40)  NOT NULL,\\r\\n    [LastName] NVARCHAR(20)  NOT NULL,\\r\\n    [Company] NVARCHAR(80),\\r\\n    [Address] NVARCHAR(70),\\r\\n    [City] NVARCHAR(40),\\r\\n    [State] NVARCHAR(40),\\r\\n    [Country] NVARCHAR(40),\\r\\n    [PostalCode] NVARCHAR(10),\\r\\n    [Phone] NVARCHAR(24),\\r\\n    [Fax] NVARCHAR(24),\\r\\n    [Email] NVARCHAR(60)  NOT NULL,\\r\\n    [SupportRepId] INTEGER,\\r\\n    FOREIGN KEY ([SupportRepId]) REFERENCES \"employees\" ([EmployeeId]) \\r\\n\\t\\tON DELETE NO ACTION ON UPDATE NO ACTION\\r\\n)',\n",
       " 'CREATE TABLE \"employees\"\\r\\n(\\r\\n    [EmployeeId] INTEGER PRIMARY KEY AUTOINCREMENT NOT NULL,\\r\\n    [LastName] NVARCHAR(20)  NOT NULL,\\r\\n    [FirstName] NVARCHAR(20)  NOT NULL,\\r\\n    [Title] NVARCHAR(30),\\r\\n    [ReportsTo] INTEGER,\\r\\n    [BirthDate] DATETIME,\\r\\n    [HireDate] DATETIME,\\r\\n    [Address] NVARCHAR(70),\\r\\n    [City] NVARCHAR(40),\\r\\n    [State] NVARCHAR(40),\\r\\n    [Country] NVARCHAR(40),\\r\\n    [PostalCode] NVARCHAR(10),\\r\\n    [Phone] NVARCHAR(24),\\r\\n    [Fax] NVARCHAR(24),\\r\\n    [Email] NVARCHAR(60),\\r\\n    FOREIGN KEY ([ReportsTo]) REFERENCES \"employees\" ([EmployeeId]) \\r\\n\\t\\tON DELETE NO ACTION ON UPDATE NO ACTION\\r\\n)',\n",
       " 'CREATE TABLE \"genres\"\\r\\n(\\r\\n    [GenreId] INTEGER PRIMARY KEY AUTOINCREMENT NOT NULL,\\r\\n    [Name] NVARCHAR(120)\\r\\n)',\n",
       " 'CREATE TABLE \"invoices\"\\r\\n(\\r\\n    [InvoiceId] INTEGER PRIMARY KEY AUTOINCREMENT NOT NULL,\\r\\n    [CustomerId] INTEGER  NOT NULL,\\r\\n    [InvoiceDate] DATETIME  NOT NULL,\\r\\n    [BillingAddress] NVARCHAR(70),\\r\\n    [BillingCity] NVARCHAR(40),\\r\\n    [BillingState] NVARCHAR(40),\\r\\n    [BillingCountry] NVARCHAR(40),\\r\\n    [BillingPostalCode] NVARCHAR(10),\\r\\n    [Total] NUMERIC(10,2)  NOT NULL,\\r\\n    FOREIGN KEY ([CustomerId]) REFERENCES \"customers\" ([CustomerId]) \\r\\n\\t\\tON DELETE NO ACTION ON UPDATE NO ACTION\\r\\n)',\n",
       " 'CREATE TABLE \"invoice_items\"\\r\\n(\\r\\n    [InvoiceLineId] INTEGER PRIMARY KEY AUTOINCREMENT NOT NULL,\\r\\n    [InvoiceId] INTEGER  NOT NULL,\\r\\n    [TrackId] INTEGER  NOT NULL,\\r\\n    [UnitPrice] NUMERIC(10,2)  NOT NULL,\\r\\n    [Quantity] INTEGER  NOT NULL,\\r\\n    FOREIGN KEY ([InvoiceId]) REFERENCES \"invoices\" ([InvoiceId]) \\r\\n\\t\\tON DELETE NO ACTION ON UPDATE NO ACTION,\\r\\n    FOREIGN KEY ([TrackId]) REFERENCES \"tracks\" ([TrackId]) \\r\\n\\t\\tON DELETE NO ACTION ON UPDATE NO ACTION\\r\\n)',\n",
       " 'CREATE TABLE \"media_types\"\\r\\n(\\r\\n    [MediaTypeId] INTEGER PRIMARY KEY AUTOINCREMENT NOT NULL,\\r\\n    [Name] NVARCHAR(120)\\r\\n)',\n",
       " 'CREATE TABLE \"playlists\"\\r\\n(\\r\\n    [PlaylistId] INTEGER PRIMARY KEY AUTOINCREMENT NOT NULL,\\r\\n    [Name] NVARCHAR(120)\\r\\n)',\n",
       " 'CREATE TABLE \"playlist_track\"\\r\\n(\\r\\n    [PlaylistId] INTEGER  NOT NULL,\\r\\n    [TrackId] INTEGER  NOT NULL,\\r\\n    CONSTRAINT [PK_PlaylistTrack] PRIMARY KEY  ([PlaylistId], [TrackId]),\\r\\n    FOREIGN KEY ([PlaylistId]) REFERENCES \"playlists\" ([PlaylistId]) \\r\\n\\t\\tON DELETE NO ACTION ON UPDATE NO ACTION,\\r\\n    FOREIGN KEY ([TrackId]) REFERENCES \"tracks\" ([TrackId]) \\r\\n\\t\\tON DELETE NO ACTION ON UPDATE NO ACTION\\r\\n)',\n",
       " 'CREATE TABLE \"tracks\"\\r\\n(\\r\\n    [TrackId] INTEGER PRIMARY KEY AUTOINCREMENT NOT NULL,\\r\\n    [Name] NVARCHAR(200)  NOT NULL,\\r\\n    [AlbumId] INTEGER,\\r\\n    [MediaTypeId] INTEGER  NOT NULL,\\r\\n    [GenreId] INTEGER,\\r\\n    [Composer] NVARCHAR(220),\\r\\n    [Milliseconds] INTEGER  NOT NULL,\\r\\n    [Bytes] INTEGER,\\r\\n    [UnitPrice] NUMERIC(10,2)  NOT NULL,\\r\\n    FOREIGN KEY ([AlbumId]) REFERENCES \"albums\" ([AlbumId]) \\r\\n\\t\\tON DELETE NO ACTION ON UPDATE NO ACTION,\\r\\n    FOREIGN KEY ([GenreId]) REFERENCES \"genres\" ([GenreId]) \\r\\n\\t\\tON DELETE NO ACTION ON UPDATE NO ACTION,\\r\\n    FOREIGN KEY ([MediaTypeId]) REFERENCES \"media_types\" ([MediaTypeId]) \\r\\n\\t\\tON DELETE NO ACTION ON UPDATE NO ACTION\\r\\n)',\n",
       " 'CREATE INDEX [IFK_AlbumArtistId] ON \"albums\" ([ArtistId])',\n",
       " 'CREATE INDEX [IFK_CustomerSupportRepId] ON \"customers\" ([SupportRepId])',\n",
       " 'CREATE INDEX [IFK_EmployeeReportsTo] ON \"employees\" ([ReportsTo])',\n",
       " 'CREATE INDEX [IFK_InvoiceCustomerId] ON \"invoices\" ([CustomerId])',\n",
       " 'CREATE INDEX [IFK_InvoiceLineInvoiceId] ON \"invoice_items\" ([InvoiceId])',\n",
       " 'CREATE INDEX [IFK_InvoiceLineTrackId] ON \"invoice_items\" ([TrackId])',\n",
       " 'CREATE INDEX [IFK_PlaylistTrackTrackId] ON \"playlist_track\" ([TrackId])',\n",
       " 'CREATE INDEX [IFK_TrackAlbumId] ON \"tracks\" ([AlbumId])',\n",
       " 'CREATE INDEX [IFK_TrackGenreId] ON \"tracks\" ([GenreId])',\n",
       " 'CREATE INDEX [IFK_TrackMediaTypeId] ON \"tracks\" ([MediaTypeId])',\n",
       " 'CREATE TABLE sqlite_stat1(tbl,idx,stat)']"
      ]
     },
     "execution_count": 27,
     "metadata": {},
     "output_type": "execute_result"
    }
   ],
   "source": [
    "result['sql'].to_list()"
   ]
  },
  {
   "cell_type": "code",
   "execution_count": 13,
   "metadata": {},
   "outputs": [
    {
     "name": "stdout",
     "output_type": "stream",
     "text": [
      "|    | type   | sql                                                                       |\n",
      "|---:|:-------|:--------------------------------------------------------------------------|\n",
      "|  0 | table  | CREATE TABLE \"albums\"                                                     |\n",
      "|    |        | (                                                                         |\n",
      "|    |        |     [AlbumId] INTEGER PRIMARY KEY AUTOINCREMENT NOT NULL,                 |\n",
      "|    |        |     [Title] NVARCHAR(160)  NOT NULL,                                      |\n",
      "|    |        |     [ArtistId] INTEGER  NOT NULL,                                         |\n",
      "|    |        |     FOREIGN KEY ([ArtistId]) REFERENCES \"artists\" ([ArtistId])            |\n",
      "|    |        | \t\tON DELETE NO ACTION ON UPDATE NO ACTION                                 |\n",
      "|    |        | )                                                                         |\n",
      "|  1 | table  | CREATE TABLE sqlite_sequence(name,seq)                                    |\n",
      "|  2 | table  | CREATE TABLE \"artists\"                                                    |\n",
      "|    |        | (                                                                         |\n",
      "|    |        |     [ArtistId] INTEGER PRIMARY KEY AUTOINCREMENT NOT NULL,                |\n",
      "|    |        |     [Name] NVARCHAR(120)                                                  |\n",
      "|    |        | )                                                                         |\n",
      "|  3 | table  | CREATE TABLE \"customers\"                                                  |\n",
      "|    |        | (                                                                         |\n",
      "|    |        |     [CustomerId] INTEGER PRIMARY KEY AUTOINCREMENT NOT NULL,              |\n",
      "|    |        |     [FirstName] NVARCHAR(40)  NOT NULL,                                   |\n",
      "|    |        |     [LastName] NVARCHAR(20)  NOT NULL,                                    |\n",
      "|    |        |     [Company] NVARCHAR(80),                                               |\n",
      "|    |        |     [Address] NVARCHAR(70),                                               |\n",
      "|    |        |     [City] NVARCHAR(40),                                                  |\n",
      "|    |        |     [State] NVARCHAR(40),                                                 |\n",
      "|    |        |     [Country] NVARCHAR(40),                                               |\n",
      "|    |        |     [PostalCode] NVARCHAR(10),                                            |\n",
      "|    |        |     [Phone] NVARCHAR(24),                                                 |\n",
      "|    |        |     [Fax] NVARCHAR(24),                                                   |\n",
      "|    |        |     [Email] NVARCHAR(60)  NOT NULL,                                       |\n",
      "|    |        |     [SupportRepId] INTEGER,                                               |\n",
      "|    |        |     FOREIGN KEY ([SupportRepId]) REFERENCES \"employees\" ([EmployeeId])    |\n",
      "|    |        | \t\tON DELETE NO ACTION ON UPDATE NO ACTION                                 |\n",
      "|    |        | )                                                                         |\n",
      "|  4 | table  | CREATE TABLE \"employees\"                                                  |\n",
      "|    |        | (                                                                         |\n",
      "|    |        |     [EmployeeId] INTEGER PRIMARY KEY AUTOINCREMENT NOT NULL,              |\n",
      "|    |        |     [LastName] NVARCHAR(20)  NOT NULL,                                    |\n",
      "|    |        |     [FirstName] NVARCHAR(20)  NOT NULL,                                   |\n",
      "|    |        |     [Title] NVARCHAR(30),                                                 |\n",
      "|    |        |     [ReportsTo] INTEGER,                                                  |\n",
      "|    |        |     [BirthDate] DATETIME,                                                 |\n",
      "|    |        |     [HireDate] DATETIME,                                                  |\n",
      "|    |        |     [Address] NVARCHAR(70),                                               |\n",
      "|    |        |     [City] NVARCHAR(40),                                                  |\n",
      "|    |        |     [State] NVARCHAR(40),                                                 |\n",
      "|    |        |     [Country] NVARCHAR(40),                                               |\n",
      "|    |        |     [PostalCode] NVARCHAR(10),                                            |\n",
      "|    |        |     [Phone] NVARCHAR(24),                                                 |\n",
      "|    |        |     [Fax] NVARCHAR(24),                                                   |\n",
      "|    |        |     [Email] NVARCHAR(60),                                                 |\n",
      "|    |        |     FOREIGN KEY ([ReportsTo]) REFERENCES \"employees\" ([EmployeeId])       |\n",
      "|    |        | \t\tON DELETE NO ACTION ON UPDATE NO ACTION                                 |\n",
      "|    |        | )                                                                         |\n",
      "|  5 | table  | CREATE TABLE \"genres\"                                                     |\n",
      "|    |        | (                                                                         |\n",
      "|    |        |     [GenreId] INTEGER PRIMARY KEY AUTOINCREMENT NOT NULL,                 |\n",
      "|    |        |     [Name] NVARCHAR(120)                                                  |\n",
      "|    |        | )                                                                         |\n",
      "|  6 | table  | CREATE TABLE \"invoices\"                                                   |\n",
      "|    |        | (                                                                         |\n",
      "|    |        |     [InvoiceId] INTEGER PRIMARY KEY AUTOINCREMENT NOT NULL,               |\n",
      "|    |        |     [CustomerId] INTEGER  NOT NULL,                                       |\n",
      "|    |        |     [InvoiceDate] DATETIME  NOT NULL,                                     |\n",
      "|    |        |     [BillingAddress] NVARCHAR(70),                                        |\n",
      "|    |        |     [BillingCity] NVARCHAR(40),                                           |\n",
      "|    |        |     [BillingState] NVARCHAR(40),                                          |\n",
      "|    |        |     [BillingCountry] NVARCHAR(40),                                        |\n",
      "|    |        |     [BillingPostalCode] NVARCHAR(10),                                     |\n",
      "|    |        |     [Total] NUMERIC(10,2)  NOT NULL,                                      |\n",
      "|    |        |     FOREIGN KEY ([CustomerId]) REFERENCES \"customers\" ([CustomerId])      |\n",
      "|    |        | \t\tON DELETE NO ACTION ON UPDATE NO ACTION                                 |\n",
      "|    |        | )                                                                         |\n",
      "|  7 | table  | CREATE TABLE \"invoice_items\"                                              |\n",
      "|    |        | (                                                                         |\n",
      "|    |        |     [InvoiceLineId] INTEGER PRIMARY KEY AUTOINCREMENT NOT NULL,           |\n",
      "|    |        |     [InvoiceId] INTEGER  NOT NULL,                                        |\n",
      "|    |        |     [TrackId] INTEGER  NOT NULL,                                          |\n",
      "|    |        |     [UnitPrice] NUMERIC(10,2)  NOT NULL,                                  |\n",
      "|    |        |     [Quantity] INTEGER  NOT NULL,                                         |\n",
      "|    |        |     FOREIGN KEY ([InvoiceId]) REFERENCES \"invoices\" ([InvoiceId])         |\n",
      "|    |        | \t\tON DELETE NO ACTION ON UPDATE NO ACTION,                                |\n",
      "|    |        |     FOREIGN KEY ([TrackId]) REFERENCES \"tracks\" ([TrackId])               |\n",
      "|    |        | \t\tON DELETE NO ACTION ON UPDATE NO ACTION                                 |\n",
      "|    |        | )                                                                         |\n",
      "|  8 | table  | CREATE TABLE \"media_types\"                                                |\n",
      "|    |        | (                                                                         |\n",
      "|    |        |     [MediaTypeId] INTEGER PRIMARY KEY AUTOINCREMENT NOT NULL,             |\n",
      "|    |        |     [Name] NVARCHAR(120)                                                  |\n",
      "|    |        | )                                                                         |\n",
      "|  9 | table  | CREATE TABLE \"playlists\"                                                  |\n",
      "|    |        | (                                                                         |\n",
      "|    |        |     [PlaylistId] INTEGER PRIMARY KEY AUTOINCREMENT NOT NULL,              |\n",
      "|    |        |     [Name] NVARCHAR(120)                                                  |\n",
      "|    |        | )                                                                         |\n",
      "| 10 | table  | CREATE TABLE \"playlist_track\"                                             |\n",
      "|    |        | (                                                                         |\n",
      "|    |        |     [PlaylistId] INTEGER  NOT NULL,                                       |\n",
      "|    |        |     [TrackId] INTEGER  NOT NULL,                                          |\n",
      "|    |        |     CONSTRAINT [PK_PlaylistTrack] PRIMARY KEY  ([PlaylistId], [TrackId]), |\n",
      "|    |        |     FOREIGN KEY ([PlaylistId]) REFERENCES \"playlists\" ([PlaylistId])      |\n",
      "|    |        | \t\tON DELETE NO ACTION ON UPDATE NO ACTION,                                |\n",
      "|    |        |     FOREIGN KEY ([TrackId]) REFERENCES \"tracks\" ([TrackId])               |\n",
      "|    |        | \t\tON DELETE NO ACTION ON UPDATE NO ACTION                                 |\n",
      "|    |        | )                                                                         |\n",
      "| 11 | table  | CREATE TABLE \"tracks\"                                                     |\n",
      "|    |        | (                                                                         |\n",
      "|    |        |     [TrackId] INTEGER PRIMARY KEY AUTOINCREMENT NOT NULL,                 |\n",
      "|    |        |     [Name] NVARCHAR(200)  NOT NULL,                                       |\n",
      "|    |        |     [AlbumId] INTEGER,                                                    |\n",
      "|    |        |     [MediaTypeId] INTEGER  NOT NULL,                                      |\n",
      "|    |        |     [GenreId] INTEGER,                                                    |\n",
      "|    |        |     [Composer] NVARCHAR(220),                                             |\n",
      "|    |        |     [Milliseconds] INTEGER  NOT NULL,                                     |\n",
      "|    |        |     [Bytes] INTEGER,                                                      |\n",
      "|    |        |     [UnitPrice] NUMERIC(10,2)  NOT NULL,                                  |\n",
      "|    |        |     FOREIGN KEY ([AlbumId]) REFERENCES \"albums\" ([AlbumId])               |\n",
      "|    |        | \t\tON DELETE NO ACTION ON UPDATE NO ACTION,                                |\n",
      "|    |        |     FOREIGN KEY ([GenreId]) REFERENCES \"genres\" ([GenreId])               |\n",
      "|    |        | \t\tON DELETE NO ACTION ON UPDATE NO ACTION,                                |\n",
      "|    |        |     FOREIGN KEY ([MediaTypeId]) REFERENCES \"media_types\" ([MediaTypeId])  |\n",
      "|    |        | \t\tON DELETE NO ACTION ON UPDATE NO ACTION                                 |\n",
      "|    |        | )                                                                         |\n",
      "| 12 | index  | CREATE INDEX [IFK_AlbumArtistId] ON \"albums\" ([ArtistId])                 |\n",
      "| 13 | index  | CREATE INDEX [IFK_CustomerSupportRepId] ON \"customers\" ([SupportRepId])   |\n",
      "| 14 | index  | CREATE INDEX [IFK_EmployeeReportsTo] ON \"employees\" ([ReportsTo])         |\n",
      "| 15 | index  | CREATE INDEX [IFK_InvoiceCustomerId] ON \"invoices\" ([CustomerId])         |\n",
      "| 16 | index  | CREATE INDEX [IFK_InvoiceLineInvoiceId] ON \"invoice_items\" ([InvoiceId])  |\n",
      "| 17 | index  | CREATE INDEX [IFK_InvoiceLineTrackId] ON \"invoice_items\" ([TrackId])      |\n",
      "| 18 | index  | CREATE INDEX [IFK_PlaylistTrackTrackId] ON \"playlist_track\" ([TrackId])   |\n",
      "| 19 | index  | CREATE INDEX [IFK_TrackAlbumId] ON \"tracks\" ([AlbumId])                   |\n",
      "| 20 | index  | CREATE INDEX [IFK_TrackGenreId] ON \"tracks\" ([GenreId])                   |\n",
      "| 21 | index  | CREATE INDEX [IFK_TrackMediaTypeId] ON \"tracks\" ([MediaTypeId])           |\n",
      "| 22 | table  | CREATE TABLE sqlite_stat1(tbl,idx,stat)                                   |\n"
     ]
    }
   ],
   "source": [
    "print(result.to_markdown())"
   ]
  },
  {
   "cell_type": "code",
   "execution_count": null,
   "metadata": {},
   "outputs": [],
   "source": []
  }
 ],
 "metadata": {
  "kernelspec": {
   "display_name": ".venv",
   "language": "python",
   "name": "python3"
  },
  "language_info": {
   "codemirror_mode": {
    "name": "ipython",
    "version": 3
   },
   "file_extension": ".py",
   "mimetype": "text/x-python",
   "name": "python",
   "nbconvert_exporter": "python",
   "pygments_lexer": "ipython3",
   "version": "3.12.4"
  }
 },
 "nbformat": 4,
 "nbformat_minor": 2
}
