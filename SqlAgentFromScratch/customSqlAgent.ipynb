{
 "cells": [
  {
   "cell_type": "code",
   "execution_count": 2,
   "metadata": {},
   "outputs": [],
   "source": [
    "from langchain_community.embeddings import OllamaEmbeddings\n",
    "from langchain_community.vectorstores import FAISS\n",
    "from openai import OpenAI\n",
    "from dotenv import load_dotenv\n",
    "import os\n",
    "import sqlite3\n",
    "import pandas as pd"
   ]
  },
  {
   "cell_type": "code",
   "execution_count": 3,
   "metadata": {},
   "outputs": [],
   "source": [
    "openai = OpenAI(\n",
    "    api_key= \"-TjFCsia_r7.oivr6in~4ZJ\", # Refer to Create a secret key section\n",
    "    base_url=\"https://cloud.olakrutrim.com/v1\",\n",
    ")"
   ]
  },
  {
   "cell_type": "code",
   "execution_count": 4,
   "metadata": {},
   "outputs": [],
   "source": [
    "db_conn = sqlite3.connect(\"chinook.db\")\n",
    "result = pd.read_sql_query(\"SELECT type, sql FROM sqlite_master WHERE sql is not null\", db_conn)"
   ]
  },
  {
   "cell_type": "code",
   "execution_count": 5,
   "metadata": {},
   "outputs": [],
   "source": [
    "db = FAISS.from_texts(result['sql'].to_list(), OllamaEmbeddings(model=\"nomic-embed-text\"))"
   ]
  },
  {
   "cell_type": "code",
   "execution_count": 13,
   "metadata": {},
   "outputs": [],
   "source": [
    "question = \"How many customers are from brazil\"\n",
    "embedder = OllamaEmbeddings(model=\"nomic-embed-text\")\n",
    "q = embedder.embed_query(question)\n",
    "a = db.similarity_search_by_vector(q, k=2)"
   ]
  },
  {
   "cell_type": "code",
   "execution_count": 18,
   "metadata": {},
   "outputs": [],
   "source": [
    "def combineDocs(docs):\n",
    "    context = \"\\n\\n\".join(f'{doc.page_content}' for doc in docs)\n",
    "    return context"
   ]
  },
  {
   "cell_type": "code",
   "execution_count": 22,
   "metadata": {},
   "outputs": [],
   "source": [
    "info = combineDocs(a)\n",
    "info = \"\""
   ]
  },
  {
   "cell_type": "code",
   "execution_count": 23,
   "metadata": {},
   "outputs": [],
   "source": [
    "chat_completion = openai.chat.completions.create(\n",
    "    model=\"Meta-Llama-3-8B-Instruct\",\n",
    "    messages=[\n",
    "    {\"role\": \"system\", \"content\": f\"\"\"'You are a SQLite expert. Please help to generate a SQL query to answer the question. Your response should ONLY be based on the given context and follow the response guidelines and format instructions. {info} ===Response Guidelines \\n1. If the provided context is sufficient, please generate a valid SQL query without any explanations for the question. \\n2. If the provided context is almost sufficient but requires knowledge of a specific string in a particular column, please generate an intermediate SQL query to find the distinct strings in that column. Prepend the query with a comment saying intermediate_sql \\n3. If the provided context is insufficient, please explain why it can\\'t be generated. \\n4. Please use the most relevant table(s). \\n5. If the question has been asked and answered before, please repeat the answer exactly as it was given before. \\n6. Ensure that the output SQL is SQLite-compliant and executable, and free of syntax errors. \\n'\"\"\"},\n",
    "    {\"role\": \"user\", \"content\": question}\n",
    "    ],\n",
    "    logit_bias= {2435: -100, 640: -100},\n",
    "    max_tokens= 2000,\n",
    "    temperature= 0, # Optional, Defaults to 1. Range: 0 to 2\n",
    "    top_p= 1 # Optional, Defaults to 1. It is generally recommended to alter this or temperature but not both.\n",
    ")\n",
    "\n",
    "response = chat_completion.choices[0].message.content"
   ]
  },
  {
   "cell_type": "code",
   "execution_count": 21,
   "metadata": {},
   "outputs": [
    {
     "name": "stdout",
     "output_type": "stream",
     "text": [
      "CREATE INDEX [IFK_CustomerSupportRepId] ON \"customers\" ([SupportRepId])\n",
      "\n",
      "CREATE TABLE \"customers\"\n",
      "(\n",
      "    [CustomerId] INTEGER PRIMARY KEY AUTOINCREMENT NOT NULL,\n",
      "    [FirstName] NVARCHAR(40)  NOT NULL,\n",
      "    [LastName] NVARCHAR(20)  NOT NULL,\n",
      "    [Company] NVARCHAR(80),\n",
      "    [Address] NVARCHAR(70),\n",
      "    [City] NVARCHAR(40),\n",
      "    [State] NVARCHAR(40),\n",
      "    [Country] NVARCHAR(40),\n",
      "    [PostalCode] NVARCHAR(10),\n",
      "    [Phone] NVARCHAR(24),\n",
      "    [Fax] NVARCHAR(24),\n",
      "    [Email] NVARCHAR(60)  NOT NULL,\n",
      "    [SupportRepId] INTEGER,\n",
      "    FOREIGN KEY ([SupportRepId]) REFERENCES \"employees\" ([EmployeeId]) \n",
      "\t\tON DELETE NO ACTION ON UPDATE NO ACTION\n",
      ")\n"
     ]
    }
   ],
   "source": [
    "print(info)"
   ]
  },
  {
   "cell_type": "code",
   "execution_count": null,
   "metadata": {},
   "outputs": [],
   "source": []
  }
 ],
 "metadata": {
  "kernelspec": {
   "display_name": ".venv",
   "language": "python",
   "name": "python3"
  },
  "language_info": {
   "codemirror_mode": {
    "name": "ipython",
    "version": 3
   },
   "file_extension": ".py",
   "mimetype": "text/x-python",
   "name": "python",
   "nbconvert_exporter": "python",
   "pygments_lexer": "ipython3",
   "version": "3.12.4"
  }
 },
 "nbformat": 4,
 "nbformat_minor": 2
}
