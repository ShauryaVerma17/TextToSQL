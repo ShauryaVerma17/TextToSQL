{
 "cells": [
  {
   "cell_type": "markdown",
   "metadata": {},
   "source": [
    "### Loading required libraries"
   ]
  },
  {
   "cell_type": "code",
   "execution_count": 1,
   "metadata": {},
   "outputs": [],
   "source": [
    "import vanna\n",
    "import os\n",
    "from dotenv import load_dotenv\n",
    "from vanna.remote import VannaDefault\n",
    "import sqlite3"
   ]
  },
  {
   "cell_type": "markdown",
   "metadata": {},
   "source": [
    "### Setting up Vanna"
   ]
  },
  {
   "cell_type": "code",
   "execution_count": 2,
   "metadata": {},
   "outputs": [],
   "source": [
    "# Connecting to vanna, we are using the defaul LLM (GPT 3.5) and Vector store (pgvector) provided by vanna\n",
    "\n",
    "load_dotenv()\n",
    "vanna_api_key = os.getenv(\"vanna_api_key\")\n",
    "vanna_model_name = \"vannagetsomecoffee\"\n",
    "vn = VannaDefault(model=vanna_model_name, api_key=vanna_api_key)"
   ]
  },
  {
   "cell_type": "markdown",
   "metadata": {},
   "source": [
    "### Setting up a template sqlite db"
   ]
  },
  {
   "cell_type": "code",
   "execution_count": 3,
   "metadata": {},
   "outputs": [],
   "source": [
    "# Using a template db called 'chinook' downloaded from the web\n",
    "db_conn = sqlite3.connect(\"chinook.db\")\n",
    "\n",
    "db_cursor = db_conn.cursor()"
   ]
  },
  {
   "cell_type": "code",
   "execution_count": 8,
   "metadata": {},
   "outputs": [],
   "source": [
    "# This is the query we will use to fetch ddl information to feed to vanna \n",
    "result = db_cursor.execute(\"SELECT type, sql FROM sqlite_master WHERE sql is not null\")\n",
    "\n",
    "# To see that the query fetches uncomment this line below\n",
    "#result.fetchall()"
   ]
  },
  {
   "cell_type": "markdown",
   "metadata": {},
   "source": [
    "### Adding the DB and DB's ddl information to vanna \n",
    "\n",
    "The training is only needed once if you are using vanna's default vector DB hence I have commented out the training code"
   ]
  },
  {
   "cell_type": "code",
   "execution_count": 3,
   "metadata": {},
   "outputs": [],
   "source": [
    "vn.connect_to_sqlite('chinook.db')"
   ]
  },
  {
   "cell_type": "code",
   "execution_count": 6,
   "metadata": {},
   "outputs": [
    {
     "name": "stdout",
     "output_type": "stream",
     "text": [
      "Adding ddl: CREATE TABLE \"albums\"\n",
      "(\n",
      "    [AlbumId] INTEGER PRIMARY KEY AUTOINCREMENT NOT NULL,\n",
      "    [Title] NVARCHAR(160)  NOT NULL,\n",
      "    [ArtistId] INTEGER  NOT NULL,\n",
      "    FOREIGN KEY ([ArtistId]) REFERENCES \"artists\" ([ArtistId]) \n",
      "\t\tON DELETE NO ACTION ON UPDATE NO ACTION\n",
      ")\n",
      "Adding ddl: CREATE TABLE sqlite_sequence(name,seq)\n",
      "Adding ddl: CREATE TABLE \"artists\"\n",
      "(\n",
      "    [ArtistId] INTEGER PRIMARY KEY AUTOINCREMENT NOT NULL,\n",
      "    [Name] NVARCHAR(120)\n",
      ")\n",
      "Adding ddl: CREATE TABLE \"customers\"\n",
      "(\n",
      "    [CustomerId] INTEGER PRIMARY KEY AUTOINCREMENT NOT NULL,\n",
      "    [FirstName] NVARCHAR(40)  NOT NULL,\n",
      "    [LastName] NVARCHAR(20)  NOT NULL,\n",
      "    [Company] NVARCHAR(80),\n",
      "    [Address] NVARCHAR(70),\n",
      "    [City] NVARCHAR(40),\n",
      "    [State] NVARCHAR(40),\n",
      "    [Country] NVARCHAR(40),\n",
      "    [PostalCode] NVARCHAR(10),\n",
      "    [Phone] NVARCHAR(24),\n",
      "    [Fax] NVARCHAR(24),\n",
      "    [Email] NVARCHAR(60)  NOT NULL,\n",
      "    [SupportRepId] INTEGER,\n",
      "    FOREIGN KEY ([SupportRepId]) REFERENCES \"employees\" ([EmployeeId]) \n",
      "\t\tON DELETE NO ACTION ON UPDATE NO ACTION\n",
      ")\n",
      "Adding ddl: CREATE TABLE \"employees\"\n",
      "(\n",
      "    [EmployeeId] INTEGER PRIMARY KEY AUTOINCREMENT NOT NULL,\n",
      "    [LastName] NVARCHAR(20)  NOT NULL,\n",
      "    [FirstName] NVARCHAR(20)  NOT NULL,\n",
      "    [Title] NVARCHAR(30),\n",
      "    [ReportsTo] INTEGER,\n",
      "    [BirthDate] DATETIME,\n",
      "    [HireDate] DATETIME,\n",
      "    [Address] NVARCHAR(70),\n",
      "    [City] NVARCHAR(40),\n",
      "    [State] NVARCHAR(40),\n",
      "    [Country] NVARCHAR(40),\n",
      "    [PostalCode] NVARCHAR(10),\n",
      "    [Phone] NVARCHAR(24),\n",
      "    [Fax] NVARCHAR(24),\n",
      "    [Email] NVARCHAR(60),\n",
      "    FOREIGN KEY ([ReportsTo]) REFERENCES \"employees\" ([EmployeeId]) \n",
      "\t\tON DELETE NO ACTION ON UPDATE NO ACTION\n",
      ")\n",
      "Adding ddl: CREATE TABLE \"genres\"\n",
      "(\n",
      "    [GenreId] INTEGER PRIMARY KEY AUTOINCREMENT NOT NULL,\n",
      "    [Name] NVARCHAR(120)\n",
      ")\n",
      "Adding ddl: CREATE TABLE \"invoices\"\n",
      "(\n",
      "    [InvoiceId] INTEGER PRIMARY KEY AUTOINCREMENT NOT NULL,\n",
      "    [CustomerId] INTEGER  NOT NULL,\n",
      "    [InvoiceDate] DATETIME  NOT NULL,\n",
      "    [BillingAddress] NVARCHAR(70),\n",
      "    [BillingCity] NVARCHAR(40),\n",
      "    [BillingState] NVARCHAR(40),\n",
      "    [BillingCountry] NVARCHAR(40),\n",
      "    [BillingPostalCode] NVARCHAR(10),\n",
      "    [Total] NUMERIC(10,2)  NOT NULL,\n",
      "    FOREIGN KEY ([CustomerId]) REFERENCES \"customers\" ([CustomerId]) \n",
      "\t\tON DELETE NO ACTION ON UPDATE NO ACTION\n",
      ")\n",
      "Adding ddl: CREATE TABLE \"invoice_items\"\n",
      "(\n",
      "    [InvoiceLineId] INTEGER PRIMARY KEY AUTOINCREMENT NOT NULL,\n",
      "    [InvoiceId] INTEGER  NOT NULL,\n",
      "    [TrackId] INTEGER  NOT NULL,\n",
      "    [UnitPrice] NUMERIC(10,2)  NOT NULL,\n",
      "    [Quantity] INTEGER  NOT NULL,\n",
      "    FOREIGN KEY ([InvoiceId]) REFERENCES \"invoices\" ([InvoiceId]) \n",
      "\t\tON DELETE NO ACTION ON UPDATE NO ACTION,\n",
      "    FOREIGN KEY ([TrackId]) REFERENCES \"tracks\" ([TrackId]) \n",
      "\t\tON DELETE NO ACTION ON UPDATE NO ACTION\n",
      ")\n",
      "Adding ddl: CREATE TABLE \"media_types\"\n",
      "(\n",
      "    [MediaTypeId] INTEGER PRIMARY KEY AUTOINCREMENT NOT NULL,\n",
      "    [Name] NVARCHAR(120)\n",
      ")\n",
      "Adding ddl: CREATE TABLE \"playlists\"\n",
      "(\n",
      "    [PlaylistId] INTEGER PRIMARY KEY AUTOINCREMENT NOT NULL,\n",
      "    [Name] NVARCHAR(120)\n",
      ")\n",
      "Adding ddl: CREATE TABLE \"playlist_track\"\n",
      "(\n",
      "    [PlaylistId] INTEGER  NOT NULL,\n",
      "    [TrackId] INTEGER  NOT NULL,\n",
      "    CONSTRAINT [PK_PlaylistTrack] PRIMARY KEY  ([PlaylistId], [TrackId]),\n",
      "    FOREIGN KEY ([PlaylistId]) REFERENCES \"playlists\" ([PlaylistId]) \n",
      "\t\tON DELETE NO ACTION ON UPDATE NO ACTION,\n",
      "    FOREIGN KEY ([TrackId]) REFERENCES \"tracks\" ([TrackId]) \n",
      "\t\tON DELETE NO ACTION ON UPDATE NO ACTION\n",
      ")\n",
      "Adding ddl: CREATE TABLE \"tracks\"\n",
      "(\n",
      "    [TrackId] INTEGER PRIMARY KEY AUTOINCREMENT NOT NULL,\n",
      "    [Name] NVARCHAR(200)  NOT NULL,\n",
      "    [AlbumId] INTEGER,\n",
      "    [MediaTypeId] INTEGER  NOT NULL,\n",
      "    [GenreId] INTEGER,\n",
      "    [Composer] NVARCHAR(220),\n",
      "    [Milliseconds] INTEGER  NOT NULL,\n",
      "    [Bytes] INTEGER,\n",
      "    [UnitPrice] NUMERIC(10,2)  NOT NULL,\n",
      "    FOREIGN KEY ([AlbumId]) REFERENCES \"albums\" ([AlbumId]) \n",
      "\t\tON DELETE NO ACTION ON UPDATE NO ACTION,\n",
      "    FOREIGN KEY ([GenreId]) REFERENCES \"genres\" ([GenreId]) \n",
      "\t\tON DELETE NO ACTION ON UPDATE NO ACTION,\n",
      "    FOREIGN KEY ([MediaTypeId]) REFERENCES \"media_types\" ([MediaTypeId]) \n",
      "\t\tON DELETE NO ACTION ON UPDATE NO ACTION\n",
      ")\n",
      "Adding ddl: CREATE INDEX [IFK_AlbumArtistId] ON \"albums\" ([ArtistId])\n",
      "Adding ddl: CREATE INDEX [IFK_CustomerSupportRepId] ON \"customers\" ([SupportRepId])\n",
      "Adding ddl: CREATE INDEX [IFK_EmployeeReportsTo] ON \"employees\" ([ReportsTo])\n",
      "Adding ddl: CREATE INDEX [IFK_InvoiceCustomerId] ON \"invoices\" ([CustomerId])\n",
      "Adding ddl: CREATE INDEX [IFK_InvoiceLineInvoiceId] ON \"invoice_items\" ([InvoiceId])\n",
      "Adding ddl: CREATE INDEX [IFK_InvoiceLineTrackId] ON \"invoice_items\" ([TrackId])\n",
      "Adding ddl: CREATE INDEX [IFK_PlaylistTrackTrackId] ON \"playlist_track\" ([TrackId])\n",
      "Adding ddl: CREATE INDEX [IFK_TrackAlbumId] ON \"tracks\" ([AlbumId])\n",
      "Adding ddl: CREATE INDEX [IFK_TrackGenreId] ON \"tracks\" ([GenreId])\n",
      "Adding ddl: CREATE INDEX [IFK_TrackMediaTypeId] ON \"tracks\" ([MediaTypeId])\n",
      "Adding ddl: CREATE TABLE sqlite_stat1(tbl,idx,stat)\n"
     ]
    }
   ],
   "source": [
    "# df_ddl = vn.run_sql(\"SELECT type, sql FROM sqlite_master WHERE sql is not null\")\n",
    "\n",
    "# for ddl in df_ddl['sql'].to_list():\n",
    "#   vn.train(ddl=ddl)"
   ]
  },
  {
   "cell_type": "code",
   "execution_count": null,
   "metadata": {},
   "outputs": [],
   "source": [
    "vn.get_training_data()"
   ]
  },
  {
   "cell_type": "markdown",
   "metadata": {},
   "source": [
    "### Querying Vanna"
   ]
  },
  {
   "cell_type": "code",
   "execution_count": 7,
   "metadata": {},
   "outputs": [
    {
     "name": "stdout",
     "output_type": "stream",
     "text": [
      "SQL Prompt: [{'role': 'system', 'content': 'You are a SQLite expert. Please help to generate a SQL query to answer the question. Your response should ONLY be based on the given context and follow the response guidelines and format instructions. \\n===Tables \\nCREATE TABLE \"customers\"\\r\\n(\\r\\n    [CustomerId] INTEGER PRIMARY KEY AUTOINCREMENT NOT NULL,\\r\\n    [FirstName] NVARCHAR(40)  NOT NULL,\\r\\n    [LastName] NVARCHAR(20)  NOT NULL,\\r\\n    [Company] NVARCHAR(80),\\r\\n    [Address] NVARCHAR(70),\\r\\n    [City] NVARCHAR(40),\\r\\n    [State] NVARCHAR(40),\\r\\n    [Country] NVARCHAR(40),\\r\\n    [PostalCode] NVARCHAR(10),\\r\\n    [Phone] NVARCHAR(24),\\r\\n    [Fax] NVARCHAR(24),\\r\\n    [Email] NVARCHAR(60)  NOT NULL,\\r\\n    [SupportRepId] INTEGER,\\r\\n    FOREIGN KEY ([SupportRepId]) REFERENCES \"employees\" ([EmployeeId]) \\r\\n\\t\\tON DELETE NO ACTION ON UPDATE NO ACTION\\r\\n)\\n\\nCREATE TABLE \"invoices\"\\r\\n(\\r\\n    [InvoiceId] INTEGER PRIMARY KEY AUTOINCREMENT NOT NULL,\\r\\n    [CustomerId] INTEGER  NOT NULL,\\r\\n    [InvoiceDate] DATETIME  NOT NULL,\\r\\n    [BillingAddress] NVARCHAR(70),\\r\\n    [BillingCity] NVARCHAR(40),\\r\\n    [BillingState] NVARCHAR(40),\\r\\n    [BillingCountry] NVARCHAR(40),\\r\\n    [BillingPostalCode] NVARCHAR(10),\\r\\n    [Total] NUMERIC(10,2)  NOT NULL,\\r\\n    FOREIGN KEY ([CustomerId]) REFERENCES \"customers\" ([CustomerId]) \\r\\n\\t\\tON DELETE NO ACTION ON UPDATE NO ACTION\\r\\n)\\n\\nCREATE TABLE \"employees\"\\r\\n(\\r\\n    [EmployeeId] INTEGER PRIMARY KEY AUTOINCREMENT NOT NULL,\\r\\n    [LastName] NVARCHAR(20)  NOT NULL,\\r\\n    [FirstName] NVARCHAR(20)  NOT NULL,\\r\\n    [Title] NVARCHAR(30),\\r\\n    [ReportsTo] INTEGER,\\r\\n    [BirthDate] DATETIME,\\r\\n    [HireDate] DATETIME,\\r\\n    [Address] NVARCHAR(70),\\r\\n    [City] NVARCHAR(40),\\r\\n    [State] NVARCHAR(40),\\r\\n    [Country] NVARCHAR(40),\\r\\n    [PostalCode] NVARCHAR(10),\\r\\n    [Phone] NVARCHAR(24),\\r\\n    [Fax] NVARCHAR(24),\\r\\n    [Email] NVARCHAR(60),\\r\\n    FOREIGN KEY ([ReportsTo]) REFERENCES \"employees\" ([EmployeeId]) \\r\\n\\t\\tON DELETE NO ACTION ON UPDATE NO ACTION\\r\\n)\\n\\nCREATE INDEX [IFK_InvoiceCustomerId] ON \"invoices\" ([CustomerId])\\n\\nCREATE INDEX [IFK_CustomerSupportRepId] ON \"customers\" ([SupportRepId])\\n\\nCREATE TABLE \"artists\"\\r\\n(\\r\\n    [ArtistId] INTEGER PRIMARY KEY AUTOINCREMENT NOT NULL,\\r\\n    [Name] NVARCHAR(120)\\r\\n)\\n\\nCREATE TABLE \"invoice_items\"\\r\\n(\\r\\n    [InvoiceLineId] INTEGER PRIMARY KEY AUTOINCREMENT NOT NULL,\\r\\n    [InvoiceId] INTEGER  NOT NULL,\\r\\n    [TrackId] INTEGER  NOT NULL,\\r\\n    [UnitPrice] NUMERIC(10,2)  NOT NULL,\\r\\n    [Quantity] INTEGER  NOT NULL,\\r\\n    FOREIGN KEY ([InvoiceId]) REFERENCES \"invoices\" ([InvoiceId]) \\r\\n\\t\\tON DELETE NO ACTION ON UPDATE NO ACTION,\\r\\n    FOREIGN KEY ([TrackId]) REFERENCES \"tracks\" ([TrackId]) \\r\\n\\t\\tON DELETE NO ACTION ON UPDATE NO ACTION\\r\\n)\\n\\nCREATE TABLE sqlite_sequence(name,seq)\\n\\nCREATE TABLE \"genres\"\\r\\n(\\r\\n    [GenreId] INTEGER PRIMARY KEY AUTOINCREMENT NOT NULL,\\r\\n    [Name] NVARCHAR(120)\\r\\n)\\n\\nCREATE TABLE \"playlists\"\\r\\n(\\r\\n    [PlaylistId] INTEGER PRIMARY KEY AUTOINCREMENT NOT NULL,\\r\\n    [Name] NVARCHAR(120)\\r\\n)\\n\\n===Response Guidelines \\n1. If the provided context is sufficient, please generate a valid SQL query without any explanations for the question. \\n2. If the provided context is almost sufficient but requires knowledge of a specific string in a particular column, please generate an intermediate SQL query to find the distinct strings in that column. Prepend the query with a comment saying intermediate_sql \\n3. If the provided context is insufficient, please explain why it can\\'t be generated. \\n4. Please use the most relevant table(s). \\n5. If the question has been asked and answered before, please repeat the answer exactly as it was given before. \\n6. Ensure that the output SQL is SQLite-compliant and executable, and free of syntax errors. \\n'}, {'role': 'user', 'content': 'How many customers are from brazil?'}]\n",
      "LLM Response: ```sql\n",
      "SELECT COUNT(*) AS TotalCustomersFromBrazil\n",
      "FROM customers\n",
      "WHERE Country = 'Brazil';\n",
      "```\n",
      "Extracted SQL: SELECT COUNT(*) AS TotalCustomersFromBrazil\n",
      "FROM customers\n",
      "WHERE Country = 'Brazil';\n"
     ]
    }
   ],
   "source": [
    "# Don't use vn.ask it calls several functions : generate_sql, run_sql, and two functions for creating plots\n",
    "#vn.ask(question=\"How many customers are from brazil?\")\n",
    "query = vn.generate_sql(\"How many customers are from brazil?\")"
   ]
  },
  {
   "cell_type": "code",
   "execution_count": 8,
   "metadata": {},
   "outputs": [
    {
     "data": {
      "text/html": [
       "<div>\n",
       "<style scoped>\n",
       "    .dataframe tbody tr th:only-of-type {\n",
       "        vertical-align: middle;\n",
       "    }\n",
       "\n",
       "    .dataframe tbody tr th {\n",
       "        vertical-align: top;\n",
       "    }\n",
       "\n",
       "    .dataframe thead th {\n",
       "        text-align: right;\n",
       "    }\n",
       "</style>\n",
       "<table border=\"1\" class=\"dataframe\">\n",
       "  <thead>\n",
       "    <tr style=\"text-align: right;\">\n",
       "      <th></th>\n",
       "      <th>TotalCustomersFromBrazil</th>\n",
       "    </tr>\n",
       "  </thead>\n",
       "  <tbody>\n",
       "    <tr>\n",
       "      <th>0</th>\n",
       "      <td>5</td>\n",
       "    </tr>\n",
       "  </tbody>\n",
       "</table>\n",
       "</div>"
      ],
      "text/plain": [
       "   TotalCustomersFromBrazil\n",
       "0                         5"
      ]
     },
     "execution_count": 8,
     "metadata": {},
     "output_type": "execute_result"
    }
   ],
   "source": [
    "vn.run_sql(query)"
   ]
  },
  {
   "cell_type": "markdown",
   "metadata": {},
   "source": [
    "### Custom function for querying with Vanna"
   ]
  },
  {
   "cell_type": "code",
   "execution_count": 15,
   "metadata": {},
   "outputs": [],
   "source": [
    "def askVanna(question):\n",
    "    query = vn.generate_sql(question)\n",
    "    print(vn.run_sql(query))"
   ]
  },
  {
   "cell_type": "code",
   "execution_count": 16,
   "metadata": {},
   "outputs": [
    {
     "name": "stdout",
     "output_type": "stream",
     "text": [
      "SQL Prompt: [{'role': 'system', 'content': 'You are a SQLite expert. Please help to generate a SQL query to answer the question. Your response should ONLY be based on the given context and follow the response guidelines and format instructions. \\n===Tables \\nCREATE TABLE \"albums\"\\r\\n(\\r\\n    [AlbumId] INTEGER PRIMARY KEY AUTOINCREMENT NOT NULL,\\r\\n    [Title] NVARCHAR(160)  NOT NULL,\\r\\n    [ArtistId] INTEGER  NOT NULL,\\r\\n    FOREIGN KEY ([ArtistId]) REFERENCES \"artists\" ([ArtistId]) \\r\\n\\t\\tON DELETE NO ACTION ON UPDATE NO ACTION\\r\\n)\\n\\nCREATE TABLE \"artists\"\\r\\n(\\r\\n    [ArtistId] INTEGER PRIMARY KEY AUTOINCREMENT NOT NULL,\\r\\n    [Name] NVARCHAR(120)\\r\\n)\\n\\nCREATE TABLE \"tracks\"\\r\\n(\\r\\n    [TrackId] INTEGER PRIMARY KEY AUTOINCREMENT NOT NULL,\\r\\n    [Name] NVARCHAR(200)  NOT NULL,\\r\\n    [AlbumId] INTEGER,\\r\\n    [MediaTypeId] INTEGER  NOT NULL,\\r\\n    [GenreId] INTEGER,\\r\\n    [Composer] NVARCHAR(220),\\r\\n    [Milliseconds] INTEGER  NOT NULL,\\r\\n    [Bytes] INTEGER,\\r\\n    [UnitPrice] NUMERIC(10,2)  NOT NULL,\\r\\n    FOREIGN KEY ([AlbumId]) REFERENCES \"albums\" ([AlbumId]) \\r\\n\\t\\tON DELETE NO ACTION ON UPDATE NO ACTION,\\r\\n    FOREIGN KEY ([GenreId]) REFERENCES \"genres\" ([GenreId]) \\r\\n\\t\\tON DELETE NO ACTION ON UPDATE NO ACTION,\\r\\n    FOREIGN KEY ([MediaTypeId]) REFERENCES \"media_types\" ([MediaTypeId]) \\r\\n\\t\\tON DELETE NO ACTION ON UPDATE NO ACTION\\r\\n)\\n\\nCREATE INDEX [IFK_AlbumArtistId] ON \"albums\" ([ArtistId])\\n\\nCREATE TABLE \"playlists\"\\r\\n(\\r\\n    [PlaylistId] INTEGER PRIMARY KEY AUTOINCREMENT NOT NULL,\\r\\n    [Name] NVARCHAR(120)\\r\\n)\\n\\nCREATE TABLE \"genres\"\\r\\n(\\r\\n    [GenreId] INTEGER PRIMARY KEY AUTOINCREMENT NOT NULL,\\r\\n    [Name] NVARCHAR(120)\\r\\n)\\n\\nCREATE INDEX [IFK_TrackAlbumId] ON \"tracks\" ([AlbumId])\\n\\nCREATE TABLE \"playlist_track\"\\r\\n(\\r\\n    [PlaylistId] INTEGER  NOT NULL,\\r\\n    [TrackId] INTEGER  NOT NULL,\\r\\n    CONSTRAINT [PK_PlaylistTrack] PRIMARY KEY  ([PlaylistId], [TrackId]),\\r\\n    FOREIGN KEY ([PlaylistId]) REFERENCES \"playlists\" ([PlaylistId]) \\r\\n\\t\\tON DELETE NO ACTION ON UPDATE NO ACTION,\\r\\n    FOREIGN KEY ([TrackId]) REFERENCES \"tracks\" ([TrackId]) \\r\\n\\t\\tON DELETE NO ACTION ON UPDATE NO ACTION\\r\\n)\\n\\nCREATE TABLE \"invoice_items\"\\r\\n(\\r\\n    [InvoiceLineId] INTEGER PRIMARY KEY AUTOINCREMENT NOT NULL,\\r\\n    [InvoiceId] INTEGER  NOT NULL,\\r\\n    [TrackId] INTEGER  NOT NULL,\\r\\n    [UnitPrice] NUMERIC(10,2)  NOT NULL,\\r\\n    [Quantity] INTEGER  NOT NULL,\\r\\n    FOREIGN KEY ([InvoiceId]) REFERENCES \"invoices\" ([InvoiceId]) \\r\\n\\t\\tON DELETE NO ACTION ON UPDATE NO ACTION,\\r\\n    FOREIGN KEY ([TrackId]) REFERENCES \"tracks\" ([TrackId]) \\r\\n\\t\\tON DELETE NO ACTION ON UPDATE NO ACTION\\r\\n)\\n\\nCREATE TABLE sqlite_stat1(tbl,idx,stat)\\n\\n===Response Guidelines \\n1. If the provided context is sufficient, please generate a valid SQL query without any explanations for the question. \\n2. If the provided context is almost sufficient but requires knowledge of a specific string in a particular column, please generate an intermediate SQL query to find the distinct strings in that column. Prepend the query with a comment saying intermediate_sql \\n3. If the provided context is insufficient, please explain why it can\\'t be generated. \\n4. Please use the most relevant table(s). \\n5. If the question has been asked and answered before, please repeat the answer exactly as it was given before. \\n6. Ensure that the output SQL is SQLite-compliant and executable, and free of syntax errors. \\n'}, {'role': 'user', 'content': 'What are the top 10 albums by sale and who are the artits of those albums'}]\n",
      "LLM Response: ```sql\n",
      "SELECT a.Title AS Album_Title, ar.Name AS Artist_Name, SUM(ii.Quantity) AS Total_Sales\n",
      "FROM albums a\n",
      "JOIN artists ar ON a.ArtistId = ar.ArtistId\n",
      "JOIN tracks t ON a.AlbumId = t.AlbumId\n",
      "JOIN invoice_items ii ON t.TrackId = ii.TrackId\n",
      "GROUP BY a.AlbumId\n",
      "ORDER BY Total_Sales DESC\n",
      "LIMIT 10;\n",
      "```\n",
      "Extracted SQL: SELECT a.Title AS Album_Title, ar.Name AS Artist_Name, SUM(ii.Quantity) AS Total_Sales\n",
      "FROM albums a\n",
      "JOIN artists ar ON a.ArtistId = ar.ArtistId\n",
      "JOIN tracks t ON a.AlbumId = t.AlbumId\n",
      "JOIN invoice_items ii ON t.TrackId = ii.TrackId\n",
      "GROUP BY a.AlbumId\n",
      "ORDER BY Total_Sales DESC\n",
      "LIMIT 10;\n",
      "                                Album_Title                   Artist_Name  \\\n",
      "0                            Minha Historia                 Chico Buarque   \n",
      "1                             Greatest Hits                 Lenny Kravitz   \n",
      "2                                 Unplugged                  Eric Clapton   \n",
      "3                                  Acústico                         Titãs   \n",
      "4                             Greatest Kiss                          Kiss   \n",
      "5                              Prenda Minha                Caetano Veloso   \n",
      "6                         Chronicle, Vol. 2  Creedence Clearwater Revival   \n",
      "7  My Generation - The Very Best Of The Who                       The Who   \n",
      "8                   International Superhits                     Green Day   \n",
      "9                         Chronicle, Vol. 1  Creedence Clearwater Revival   \n",
      "\n",
      "   Total_Sales  \n",
      "0           27  \n",
      "1           26  \n",
      "2           25  \n",
      "3           22  \n",
      "4           20  \n",
      "5           19  \n",
      "6           19  \n",
      "7           19  \n",
      "8           18  \n",
      "9           18  \n"
     ]
    }
   ],
   "source": [
    "askVanna(\"What are the top 10 albums by sale and who are the artits of those albums\")"
   ]
  },
  {
   "cell_type": "code",
   "execution_count": 4,
   "metadata": {},
   "outputs": [
    {
     "name": "stdout",
     "output_type": "stream",
     "text": [
      "SQL Prompt: [{'role': 'system', 'content': 'You are a SQLite expert. Please help to generate a SQL query to answer the question. Your response should ONLY be based on the given context and follow the response guidelines and format instructions. \\n===Tables \\nCREATE TABLE \"customers\"\\r\\n(\\r\\n    [CustomerId] INTEGER PRIMARY KEY AUTOINCREMENT NOT NULL,\\r\\n    [FirstName] NVARCHAR(40)  NOT NULL,\\r\\n    [LastName] NVARCHAR(20)  NOT NULL,\\r\\n    [Company] NVARCHAR(80),\\r\\n    [Address] NVARCHAR(70),\\r\\n    [City] NVARCHAR(40),\\r\\n    [State] NVARCHAR(40),\\r\\n    [Country] NVARCHAR(40),\\r\\n    [PostalCode] NVARCHAR(10),\\r\\n    [Phone] NVARCHAR(24),\\r\\n    [Fax] NVARCHAR(24),\\r\\n    [Email] NVARCHAR(60)  NOT NULL,\\r\\n    [SupportRepId] INTEGER,\\r\\n    FOREIGN KEY ([SupportRepId]) REFERENCES \"employees\" ([EmployeeId]) \\r\\n\\t\\tON DELETE NO ACTION ON UPDATE NO ACTION\\r\\n)\\n\\nCREATE TABLE \"invoices\"\\r\\n(\\r\\n    [InvoiceId] INTEGER PRIMARY KEY AUTOINCREMENT NOT NULL,\\r\\n    [CustomerId] INTEGER  NOT NULL,\\r\\n    [InvoiceDate] DATETIME  NOT NULL,\\r\\n    [BillingAddress] NVARCHAR(70),\\r\\n    [BillingCity] NVARCHAR(40),\\r\\n    [BillingState] NVARCHAR(40),\\r\\n    [BillingCountry] NVARCHAR(40),\\r\\n    [BillingPostalCode] NVARCHAR(10),\\r\\n    [Total] NUMERIC(10,2)  NOT NULL,\\r\\n    FOREIGN KEY ([CustomerId]) REFERENCES \"customers\" ([CustomerId]) \\r\\n\\t\\tON DELETE NO ACTION ON UPDATE NO ACTION\\r\\n)\\n\\nCREATE TABLE \"employees\"\\r\\n(\\r\\n    [EmployeeId] INTEGER PRIMARY KEY AUTOINCREMENT NOT NULL,\\r\\n    [LastName] NVARCHAR(20)  NOT NULL,\\r\\n    [FirstName] NVARCHAR(20)  NOT NULL,\\r\\n    [Title] NVARCHAR(30),\\r\\n    [ReportsTo] INTEGER,\\r\\n    [BirthDate] DATETIME,\\r\\n    [HireDate] DATETIME,\\r\\n    [Address] NVARCHAR(70),\\r\\n    [City] NVARCHAR(40),\\r\\n    [State] NVARCHAR(40),\\r\\n    [Country] NVARCHAR(40),\\r\\n    [PostalCode] NVARCHAR(10),\\r\\n    [Phone] NVARCHAR(24),\\r\\n    [Fax] NVARCHAR(24),\\r\\n    [Email] NVARCHAR(60),\\r\\n    FOREIGN KEY ([ReportsTo]) REFERENCES \"employees\" ([EmployeeId]) \\r\\n\\t\\tON DELETE NO ACTION ON UPDATE NO ACTION\\r\\n)\\n\\nCREATE INDEX [IFK_InvoiceCustomerId] ON \"invoices\" ([CustomerId])\\n\\nCREATE TABLE \"genres\"\\r\\n(\\r\\n    [GenreId] INTEGER PRIMARY KEY AUTOINCREMENT NOT NULL,\\r\\n    [Name] NVARCHAR(120)\\r\\n)\\n\\nCREATE INDEX [IFK_CustomerSupportRepId] ON \"customers\" ([SupportRepId])\\n\\nCREATE TABLE \"artists\"\\r\\n(\\r\\n    [ArtistId] INTEGER PRIMARY KEY AUTOINCREMENT NOT NULL,\\r\\n    [Name] NVARCHAR(120)\\r\\n)\\n\\nCREATE TABLE \"albums\"\\r\\n(\\r\\n    [AlbumId] INTEGER PRIMARY KEY AUTOINCREMENT NOT NULL,\\r\\n    [Title] NVARCHAR(160)  NOT NULL,\\r\\n    [ArtistId] INTEGER  NOT NULL,\\r\\n    FOREIGN KEY ([ArtistId]) REFERENCES \"artists\" ([ArtistId]) \\r\\n\\t\\tON DELETE NO ACTION ON UPDATE NO ACTION\\r\\n)\\n\\nCREATE TABLE \"invoice_items\"\\r\\n(\\r\\n    [InvoiceLineId] INTEGER PRIMARY KEY AUTOINCREMENT NOT NULL,\\r\\n    [InvoiceId] INTEGER  NOT NULL,\\r\\n    [TrackId] INTEGER  NOT NULL,\\r\\n    [UnitPrice] NUMERIC(10,2)  NOT NULL,\\r\\n    [Quantity] INTEGER  NOT NULL,\\r\\n    FOREIGN KEY ([InvoiceId]) REFERENCES \"invoices\" ([InvoiceId]) \\r\\n\\t\\tON DELETE NO ACTION ON UPDATE NO ACTION,\\r\\n    FOREIGN KEY ([TrackId]) REFERENCES \"tracks\" ([TrackId]) \\r\\n\\t\\tON DELETE NO ACTION ON UPDATE NO ACTION\\r\\n)\\n\\nCREATE TABLE \"playlists\"\\r\\n(\\r\\n    [PlaylistId] INTEGER PRIMARY KEY AUTOINCREMENT NOT NULL,\\r\\n    [Name] NVARCHAR(120)\\r\\n)\\n\\n===Response Guidelines \\n1. If the provided context is sufficient, please generate a valid SQL query without any explanations for the question. \\n2. If the provided context is almost sufficient but requires knowledge of a specific string in a particular column, please generate an intermediate SQL query to find the distinct strings in that column. Prepend the query with a comment saying intermediate_sql \\n3. If the provided context is insufficient, please explain why it can\\'t be generated. \\n4. Please use the most relevant table(s). \\n5. If the question has been asked and answered before, please repeat the answer exactly as it was given before. \\n6. Ensure that the output SQL is SQLite-compliant and executable, and free of syntax errors. \\n'}, {'role': 'user', 'content': 'Give me a list of all countries that the customers are from'}]\n",
      "LLM Response: ```sql\n",
      "SELECT DISTINCT Country\n",
      "FROM customers;\n",
      "```\n",
      "Extracted SQL: SELECT DISTINCT Country\n",
      "FROM customers;\n",
      "SELECT DISTINCT Country\n",
      "FROM customers;\n",
      "           Country\n",
      "0           Brazil\n",
      "1          Germany\n",
      "2           Canada\n",
      "3           Norway\n",
      "4   Czech Republic\n",
      "5          Austria\n",
      "6          Belgium\n",
      "7          Denmark\n",
      "8              USA\n",
      "9         Portugal\n",
      "10          France\n",
      "11         Finland\n",
      "12         Hungary\n",
      "13         Ireland\n",
      "14           Italy\n",
      "15     Netherlands\n",
      "16          Poland\n",
      "17           Spain\n",
      "18          Sweden\n",
      "19  United Kingdom\n",
      "20       Australia\n",
      "21       Argentina\n",
      "22           Chile\n",
      "23           India\n"
     ]
    },
    {
     "data": {
      "text/plain": [
       "('SELECT DISTINCT Country\\nFROM customers;',\n",
       "            Country\n",
       " 0           Brazil\n",
       " 1          Germany\n",
       " 2           Canada\n",
       " 3           Norway\n",
       " 4   Czech Republic\n",
       " 5          Austria\n",
       " 6          Belgium\n",
       " 7          Denmark\n",
       " 8              USA\n",
       " 9         Portugal\n",
       " 10          France\n",
       " 11         Finland\n",
       " 12         Hungary\n",
       " 13         Ireland\n",
       " 14           Italy\n",
       " 15     Netherlands\n",
       " 16          Poland\n",
       " 17           Spain\n",
       " 18          Sweden\n",
       " 19  United Kingdom\n",
       " 20       Australia\n",
       " 21       Argentina\n",
       " 22           Chile\n",
       " 23           India,\n",
       " None)"
      ]
     },
     "execution_count": 4,
     "metadata": {},
     "output_type": "execute_result"
    }
   ],
   "source": [
    "# Correct way of using vanna.ask()\n",
    "\n",
    "vn.ask(question=\"Give me a list of all countries that the customers are from\", print_results=True, auto_train=False, visualize=False) "
   ]
  },
  {
   "cell_type": "code",
   "execution_count": 5,
   "metadata": {},
   "outputs": [
    {
     "name": "stdout",
     "output_type": "stream",
     "text": [
      "SQL Prompt: [{'role': 'system', 'content': 'You are a SQLite expert. Please help to generate a SQL query to answer the question. Your response should ONLY be based on the given context and follow the response guidelines and format instructions. \\n===Tables \\nCREATE TABLE \"tracks\"\\r\\n(\\r\\n    [TrackId] INTEGER PRIMARY KEY AUTOINCREMENT NOT NULL,\\r\\n    [Name] NVARCHAR(200)  NOT NULL,\\r\\n    [AlbumId] INTEGER,\\r\\n    [MediaTypeId] INTEGER  NOT NULL,\\r\\n    [GenreId] INTEGER,\\r\\n    [Composer] NVARCHAR(220),\\r\\n    [Milliseconds] INTEGER  NOT NULL,\\r\\n    [Bytes] INTEGER,\\r\\n    [UnitPrice] NUMERIC(10,2)  NOT NULL,\\r\\n    FOREIGN KEY ([AlbumId]) REFERENCES \"albums\" ([AlbumId]) \\r\\n\\t\\tON DELETE NO ACTION ON UPDATE NO ACTION,\\r\\n    FOREIGN KEY ([GenreId]) REFERENCES \"genres\" ([GenreId]) \\r\\n\\t\\tON DELETE NO ACTION ON UPDATE NO ACTION,\\r\\n    FOREIGN KEY ([MediaTypeId]) REFERENCES \"media_types\" ([MediaTypeId]) \\r\\n\\t\\tON DELETE NO ACTION ON UPDATE NO ACTION\\r\\n)\\n\\nCREATE INDEX [IFK_TrackAlbumId] ON \"tracks\" ([AlbumId])\\n\\nCREATE TABLE \"playlist_track\"\\r\\n(\\r\\n    [PlaylistId] INTEGER  NOT NULL,\\r\\n    [TrackId] INTEGER  NOT NULL,\\r\\n    CONSTRAINT [PK_PlaylistTrack] PRIMARY KEY  ([PlaylistId], [TrackId]),\\r\\n    FOREIGN KEY ([PlaylistId]) REFERENCES \"playlists\" ([PlaylistId]) \\r\\n\\t\\tON DELETE NO ACTION ON UPDATE NO ACTION,\\r\\n    FOREIGN KEY ([TrackId]) REFERENCES \"tracks\" ([TrackId]) \\r\\n\\t\\tON DELETE NO ACTION ON UPDATE NO ACTION\\r\\n)\\n\\nCREATE INDEX [IFK_TrackMediaTypeId] ON \"tracks\" ([MediaTypeId])\\n\\nCREATE TABLE \"playlists\"\\r\\n(\\r\\n    [PlaylistId] INTEGER PRIMARY KEY AUTOINCREMENT NOT NULL,\\r\\n    [Name] NVARCHAR(120)\\r\\n)\\n\\nCREATE INDEX [IFK_PlaylistTrackTrackId] ON \"playlist_track\" ([TrackId])\\n\\nCREATE INDEX [IFK_TrackGenreId] ON \"tracks\" ([GenreId])\\n\\nCREATE TABLE sqlite_sequence(name,seq)\\n\\nCREATE INDEX [IFK_InvoiceLineTrackId] ON \"invoice_items\" ([TrackId])\\n\\nCREATE TABLE \"albums\"\\r\\n(\\r\\n    [AlbumId] INTEGER PRIMARY KEY AUTOINCREMENT NOT NULL,\\r\\n    [Title] NVARCHAR(160)  NOT NULL,\\r\\n    [ArtistId] INTEGER  NOT NULL,\\r\\n    FOREIGN KEY ([ArtistId]) REFERENCES \"artists\" ([ArtistId]) \\r\\n\\t\\tON DELETE NO ACTION ON UPDATE NO ACTION\\r\\n)\\n\\n===Response Guidelines \\n1. If the provided context is sufficient, please generate a valid SQL query without any explanations for the question. \\n2. If the provided context is almost sufficient but requires knowledge of a specific string in a particular column, please generate an intermediate SQL query to find the distinct strings in that column. Prepend the query with a comment saying intermediate_sql \\n3. If the provided context is insufficient, please explain why it can\\'t be generated. \\n4. Please use the most relevant table(s). \\n5. If the question has been asked and answered before, please repeat the answer exactly as it was given before. \\n6. Ensure that the output SQL is SQLite-compliant and executable, and free of syntax errors. \\n'}, {'role': 'user', 'content': 'Which tracks were purchased in the order with maximum tracks purchased?'}]\n",
      "LLM Response: ```sql\n",
      "WITH max_order AS (\n",
      "    SELECT InvoiceId, COUNT(TrackId) AS tracks_purchased\n",
      "    FROM invoice_items\n",
      "    GROUP BY InvoiceId\n",
      "    ORDER BY tracks_purchased DESC\n",
      "    LIMIT 1\n",
      ")\n",
      "\n",
      "SELECT t.Name\n",
      "FROM tracks t\n",
      "JOIN invoice_items ii ON t.TrackId = ii.TrackId\n",
      "JOIN max_order mo ON ii.InvoiceId = mo.InvoiceId;\n",
      "```\n",
      "Extracted SQL: WITH max_order AS (\n",
      "    SELECT InvoiceId, COUNT(TrackId) AS tracks_purchased\n",
      "    FROM invoice_items\n",
      "    GROUP BY InvoiceId\n",
      "    ORDER BY tracks_purchased DESC\n",
      "    LIMIT 1\n",
      ")\n",
      "\n",
      "SELECT t.Name\n",
      "FROM tracks t\n",
      "JOIN invoice_items ii ON t.TrackId = ii.TrackId\n",
      "JOIN max_order mo ON ii.InvoiceId = mo.InvoiceId;\n",
      "WITH max_order AS (\n",
      "    SELECT InvoiceId, COUNT(TrackId) AS tracks_purchased\n",
      "    FROM invoice_items\n",
      "    GROUP BY InvoiceId\n",
      "    ORDER BY tracks_purchased DESC\n",
      "    LIMIT 1\n",
      ")\n",
      "\n",
      "SELECT t.Name\n",
      "FROM tracks t\n",
      "JOIN invoice_items ii ON t.TrackId = ii.TrackId\n",
      "JOIN max_order mo ON ii.InvoiceId = mo.InvoiceId;\n",
      "                      Name\n",
      "0       Your Time Has Come\n",
      "1                Dandelion\n",
      "2      Rock 'N' Roll Music\n",
      "3               Moon germs\n",
      "4         Super Terrorizer\n",
      "5            Heart Of Gold\n",
      "6               Evil Woman\n",
      "7               Cornucopia\n",
      "8      Bowels Of The Devil\n",
      "9        Body Count Anthem\n",
      "10               Jerusalem\n",
      "11  When My Left Eye Jumps\n",
      "12               Meditação\n",
      "13               Esse Cara\n"
     ]
    },
    {
     "data": {
      "text/plain": [
       "('WITH max_order AS (\\n    SELECT InvoiceId, COUNT(TrackId) AS tracks_purchased\\n    FROM invoice_items\\n    GROUP BY InvoiceId\\n    ORDER BY tracks_purchased DESC\\n    LIMIT 1\\n)\\n\\nSELECT t.Name\\nFROM tracks t\\nJOIN invoice_items ii ON t.TrackId = ii.TrackId\\nJOIN max_order mo ON ii.InvoiceId = mo.InvoiceId;',\n",
       "                       Name\n",
       " 0       Your Time Has Come\n",
       " 1                Dandelion\n",
       " 2      Rock 'N' Roll Music\n",
       " 3               Moon germs\n",
       " 4         Super Terrorizer\n",
       " 5            Heart Of Gold\n",
       " 6               Evil Woman\n",
       " 7               Cornucopia\n",
       " 8      Bowels Of The Devil\n",
       " 9        Body Count Anthem\n",
       " 10               Jerusalem\n",
       " 11  When My Left Eye Jumps\n",
       " 12               Meditação\n",
       " 13               Esse Cara,\n",
       " None)"
      ]
     },
     "execution_count": 5,
     "metadata": {},
     "output_type": "execute_result"
    }
   ],
   "source": [
    "# Correct way of using vanna.ask()\n",
    "\n",
    "vn.ask(question=\"Which tracks were purchased in the order with maximum tracks purchased?\", print_results=True, auto_train=False, visualize=False) "
   ]
  },
  {
   "cell_type": "code",
   "execution_count": 5,
   "metadata": {},
   "outputs": [
    {
     "name": "stdout",
     "output_type": "stream",
     "text": [
      "HTTPSConnectionPool(host='ask.vanna.ai', port=443): Max retries exceeded with url: /rpc (Caused by SSLError(SSLCertVerificationError(1, '[SSL: CERTIFICATE_VERIFY_FAILED] certificate verify failed: unable to get local issuer certificate (_ssl.c:1000)')))\n"
     ]
    },
    {
     "data": {
      "text/plain": [
       "(None, None, None)"
      ]
     },
     "execution_count": 5,
     "metadata": {},
     "output_type": "execute_result"
    }
   ],
   "source": [
    "# Correct way of using vanna.ask()\n",
    "\n",
    "vn.ask(question=\"Give me a list of all countries that the customers are from\", print_results=True, auto_train=False, visualize=False) "
   ]
  },
  {
   "cell_type": "code",
   "execution_count": 5,
   "metadata": {},
   "outputs": [
    {
     "name": "stdout",
     "output_type": "stream",
     "text": [
      "HTTPSConnectionPool(host='ask.vanna.ai', port=443): Max retries exceeded with url: /rpc (Caused by SSLError(SSLCertVerificationError(1, '[SSL: CERTIFICATE_VERIFY_FAILED] certificate verify failed: unable to get local issuer certificate (_ssl.c:1000)')))\n"
     ]
    },
    {
     "data": {
      "text/plain": [
       "(None, None, None)"
      ]
     },
     "execution_count": 5,
     "metadata": {},
     "output_type": "execute_result"
    }
   ],
   "source": [
    "vn.ask(question=\"Give me a list of all countries that the customers are from\", print_results=True, auto_train=False, visualize=False) \n"
   ]
  },
  {
   "cell_type": "code",
   "execution_count": null,
   "metadata": {},
   "outputs": [],
   "source": []
  }
 ],
 "metadata": {
  "kernelspec": {
   "display_name": ".venv",
   "language": "python",
   "name": "python3"
  },
  "language_info": {
   "codemirror_mode": {
    "name": "ipython",
    "version": 3
   },
   "file_extension": ".py",
   "mimetype": "text/x-python",
   "name": "python",
   "nbconvert_exporter": "python",
   "pygments_lexer": "ipython3",
   "version": "3.12.4"
  }
 },
 "nbformat": 4,
 "nbformat_minor": 2
}
