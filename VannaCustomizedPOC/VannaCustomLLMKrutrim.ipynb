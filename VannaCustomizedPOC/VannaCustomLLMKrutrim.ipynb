{
 "cells": [
  {
   "cell_type": "code",
   "execution_count": 18,
   "metadata": {},
   "outputs": [],
   "source": [
    "from vanna.vannadb import VannaDB_VectorStore\n",
    "import os\n",
    "from dotenv import load_dotenv\n",
    "from openai import OpenAI\n",
    "from vanna.base import VannaBase"
   ]
  },
  {
   "cell_type": "code",
   "execution_count": 19,
   "metadata": {},
   "outputs": [],
   "source": [
    "load_dotenv()\n",
    "vanna_api_key = os.getenv(\"vanna_api_key\")\n",
    "vanna_model_name = \"vannagetsomecoffee\"\n",
    "krutrim_api_key = os.getenv(\"krutrim_api_key\")"
   ]
  },
  {
   "cell_type": "code",
   "execution_count": 20,
   "metadata": {},
   "outputs": [],
   "source": [
    "class KrutrimAI(VannaBase):\n",
    "    \n",
    "    def __init__(self, config=None):\n",
    "        if config is None:\n",
    "            raise ValueError(\n",
    "                \"For using Krutrim, config must be provided with including an api_key and a model\"\n",
    "            )\n",
    "\n",
    "        if \"api_key\" not in config:\n",
    "            raise ValueError(\"config must contain a Krutrim api_key\")\n",
    "\n",
    "        if \"model\" not in config:\n",
    "            raise ValueError(\"config must contain a model made available in krutrim cloud\")\n",
    "\n",
    "        api_key = config[\"api_key\"]\n",
    "        model = config[\"model\"]\n",
    "        self.client = OpenAI(api_key= api_key, base_url=\"https://cloud.olakrutrim.com/v1\",)\n",
    "        self.model = model\n",
    "\n",
    "    def system_message(self, message: str) -> any:\n",
    "        return {\"role\": \"system\", \"content\": message}\n",
    "\n",
    "    def user_message(self, message: str) -> any:\n",
    "        return {\"role\": \"user\", \"content\": message}\n",
    "\n",
    "    def assistant_message(self, message: str) -> any:\n",
    "        return {\"role\": \"assistant\", \"content\": message}\n",
    "\n",
    "    def generate_sql(self, question: str, **kwargs) -> str:\n",
    "        # Use the super generate_sql\n",
    "        sql = super().generate_sql(question, **kwargs)\n",
    "\n",
    "        # Replace \"\\_\" with \"_\"\n",
    "        sql = sql.replace(\"\\\\_\", \"_\")\n",
    "\n",
    "        return sql\n",
    "\n",
    "    def submit_prompt(self, prompt, **kwargs) -> str:\n",
    "        chat_response = self.client.chat.completions.create(\n",
    "            model=self.model,\n",
    "            messages=prompt,\n",
    "            logit_bias= {2435: -100, 640: -100},\n",
    "            max_tokens= 5000\n",
    "        )\n",
    "\n",
    "        return chat_response.choices[0].message.content"
   ]
  },
  {
   "cell_type": "code",
   "execution_count": 21,
   "metadata": {},
   "outputs": [],
   "source": [
    "class CustomLLMVanna(VannaDB_VectorStore, KrutrimAI):\n",
    "    def __init__(self, config=None):\n",
    "        MY_VANNA_MODEL = vanna_model_name# Your model name from https://vanna.ai/account/profile\n",
    "        VannaDB_VectorStore.__init__(self, vanna_model=MY_VANNA_MODEL, vanna_api_key=vanna_api_key, config=config)\n",
    "        KrutrimAI.__init__(self, config=config)"
   ]
  },
  {
   "cell_type": "code",
   "execution_count": 22,
   "metadata": {},
   "outputs": [],
   "source": [
    "vn = CustomLLMVanna(config={'model': 'Meta-Llama-3-8B-Instruct', \"api_key\" : f\"{krutrim_api_key}\"})"
   ]
  },
  {
   "cell_type": "code",
   "execution_count": 23,
   "metadata": {},
   "outputs": [],
   "source": [
    "vn.connect_to_sqlite(\"chinook.db\")"
   ]
  },
  {
   "cell_type": "code",
   "execution_count": 24,
   "metadata": {},
   "outputs": [],
   "source": [
    "def askVanna(question):\n",
    "    return vn.ask(question=question, print_results=True, auto_train=False, visualize=False) \n"
   ]
  },
  {
   "cell_type": "code",
   "execution_count": 25,
   "metadata": {},
   "outputs": [
    {
     "name": "stdout",
     "output_type": "stream",
     "text": [
      "SQL Prompt: [{'role': 'system', 'content': 'You are a SQLite expert. Please help to generate a SQL query to answer the question. Your response should ONLY be based on the given context and follow the response guidelines and format instructions. \\n===Tables \\nCREATE TABLE \"customers\"\\r\\n(\\r\\n    [CustomerId] INTEGER PRIMARY KEY AUTOINCREMENT NOT NULL,\\r\\n    [FirstName] NVARCHAR(40)  NOT NULL,\\r\\n    [LastName] NVARCHAR(20)  NOT NULL,\\r\\n    [Company] NVARCHAR(80),\\r\\n    [Address] NVARCHAR(70),\\r\\n    [City] NVARCHAR(40),\\r\\n    [State] NVARCHAR(40),\\r\\n    [Country] NVARCHAR(40),\\r\\n    [PostalCode] NVARCHAR(10),\\r\\n    [Phone] NVARCHAR(24),\\r\\n    [Fax] NVARCHAR(24),\\r\\n    [Email] NVARCHAR(60)  NOT NULL,\\r\\n    [SupportRepId] INTEGER,\\r\\n    FOREIGN KEY ([SupportRepId]) REFERENCES \"employees\" ([EmployeeId]) \\r\\n\\t\\tON DELETE NO ACTION ON UPDATE NO ACTION\\r\\n)\\n\\nCREATE TABLE \"invoices\"\\r\\n(\\r\\n    [InvoiceId] INTEGER PRIMARY KEY AUTOINCREMENT NOT NULL,\\r\\n    [CustomerId] INTEGER  NOT NULL,\\r\\n    [InvoiceDate] DATETIME  NOT NULL,\\r\\n    [BillingAddress] NVARCHAR(70),\\r\\n    [BillingCity] NVARCHAR(40),\\r\\n    [BillingState] NVARCHAR(40),\\r\\n    [BillingCountry] NVARCHAR(40),\\r\\n    [BillingPostalCode] NVARCHAR(10),\\r\\n    [Total] NUMERIC(10,2)  NOT NULL,\\r\\n    FOREIGN KEY ([CustomerId]) REFERENCES \"customers\" ([CustomerId]) \\r\\n\\t\\tON DELETE NO ACTION ON UPDATE NO ACTION\\r\\n)\\n\\nCREATE INDEX [IFK_InvoiceCustomerId] ON \"invoices\" ([CustomerId])\\n\\nCREATE TABLE \"employees\"\\r\\n(\\r\\n    [EmployeeId] INTEGER PRIMARY KEY AUTOINCREMENT NOT NULL,\\r\\n    [LastName] NVARCHAR(20)  NOT NULL,\\r\\n    [FirstName] NVARCHAR(20)  NOT NULL,\\r\\n    [Title] NVARCHAR(30),\\r\\n    [ReportsTo] INTEGER,\\r\\n    [BirthDate] DATETIME,\\r\\n    [HireDate] DATETIME,\\r\\n    [Address] NVARCHAR(70),\\r\\n    [City] NVARCHAR(40),\\r\\n    [State] NVARCHAR(40),\\r\\n    [Country] NVARCHAR(40),\\r\\n    [PostalCode] NVARCHAR(10),\\r\\n    [Phone] NVARCHAR(24),\\r\\n    [Fax] NVARCHAR(24),\\r\\n    [Email] NVARCHAR(60),\\r\\n    FOREIGN KEY ([ReportsTo]) REFERENCES \"employees\" ([EmployeeId]) \\r\\n\\t\\tON DELETE NO ACTION ON UPDATE NO ACTION\\r\\n)\\n\\nCREATE INDEX [IFK_CustomerSupportRepId] ON \"customers\" ([SupportRepId])\\n\\nCREATE TABLE \"artists\"\\r\\n(\\r\\n    [ArtistId] INTEGER PRIMARY KEY AUTOINCREMENT NOT NULL,\\r\\n    [Name] NVARCHAR(120)\\r\\n)\\n\\nCREATE TABLE \"invoice_items\"\\r\\n(\\r\\n    [InvoiceLineId] INTEGER PRIMARY KEY AUTOINCREMENT NOT NULL,\\r\\n    [InvoiceId] INTEGER  NOT NULL,\\r\\n    [TrackId] INTEGER  NOT NULL,\\r\\n    [UnitPrice] NUMERIC(10,2)  NOT NULL,\\r\\n    [Quantity] INTEGER  NOT NULL,\\r\\n    FOREIGN KEY ([InvoiceId]) REFERENCES \"invoices\" ([InvoiceId]) \\r\\n\\t\\tON DELETE NO ACTION ON UPDATE NO ACTION,\\r\\n    FOREIGN KEY ([TrackId]) REFERENCES \"tracks\" ([TrackId]) \\r\\n\\t\\tON DELETE NO ACTION ON UPDATE NO ACTION\\r\\n)\\n\\nCREATE TABLE sqlite_sequence(name,seq)\\n\\nCREATE TABLE \"albums\"\\r\\n(\\r\\n    [AlbumId] INTEGER PRIMARY KEY AUTOINCREMENT NOT NULL,\\r\\n    [Title] NVARCHAR(160)  NOT NULL,\\r\\n    [ArtistId] INTEGER  NOT NULL,\\r\\n    FOREIGN KEY ([ArtistId]) REFERENCES \"artists\" ([ArtistId]) \\r\\n\\t\\tON DELETE NO ACTION ON UPDATE NO ACTION\\r\\n)\\n\\nCREATE TABLE \"genres\"\\r\\n(\\r\\n    [GenreId] INTEGER PRIMARY KEY AUTOINCREMENT NOT NULL,\\r\\n    [Name] NVARCHAR(120)\\r\\n)\\n\\n===Response Guidelines \\n1. If the provided context is sufficient, please generate a valid SQL query without any explanations for the question. \\n2. If the provided context is almost sufficient but requires knowledge of a specific string in a particular column, please generate an intermediate SQL query to find the distinct strings in that column. Prepend the query with a comment saying intermediate_sql \\n3. If the provided context is insufficient, please explain why it can\\'t be generated. \\n4. Please use the most relevant table(s). \\n5. If the question has been asked and answered before, please repeat the answer exactly as it was given before. \\n6. Ensure that the output SQL is SQLite-compliant and executable, and free of syntax errors. \\n'}, {'role': 'user', 'content': 'Which customers are from brazil?'}]\n",
      "<HTML><HEAD>\n",
      "<TITLE>Access Denied</TITLE>\n",
      "</HEAD><BODY>\n",
      "<H1>Access Denied</H1>\n",
      " \n",
      "You don't have permission to access \"http&#58;&#47;&#47;cloud&#46;olakrutrim&#46;com&#47;v1&#47;chat&#47;completions\" on this server.<P>\n",
      "Reference&#32;&#35;18&#46;d42fc917&#46;1725174907&#46;d7a39fa\n",
      "<P>https&#58;&#47;&#47;errors&#46;edgesuite&#46;net&#47;18&#46;d42fc917&#46;1725174907&#46;d7a39fa</P>\n",
      "</BODY>\n",
      "</HTML>\n"
     ]
    },
    {
     "data": {
      "text/plain": [
       "(None, None, None)"
      ]
     },
     "execution_count": 25,
     "metadata": {},
     "output_type": "execute_result"
    }
   ],
   "source": [
    "askVanna(\"Which customers are from brazil?\")"
   ]
  },
  {
   "cell_type": "code",
   "execution_count": null,
   "metadata": {},
   "outputs": [],
   "source": []
  }
 ],
 "metadata": {
  "kernelspec": {
   "display_name": ".venv",
   "language": "python",
   "name": "python3"
  },
  "language_info": {
   "codemirror_mode": {
    "name": "ipython",
    "version": 3
   },
   "file_extension": ".py",
   "mimetype": "text/x-python",
   "name": "python",
   "nbconvert_exporter": "python",
   "pygments_lexer": "ipython3",
   "version": "3.12.4"
  }
 },
 "nbformat": 4,
 "nbformat_minor": 2
}
