{
 "cells": [
  {
   "cell_type": "markdown",
   "metadata": {},
   "source": [
    "### Loading required libraries"
   ]
  },
  {
   "cell_type": "code",
   "execution_count": 1,
   "metadata": {},
   "outputs": [],
   "source": [
    "import vanna\n",
    "import os\n",
    "from dotenv import load_dotenv\n",
    "from vanna.remote import VannaDefault\n",
    "import sqlite3"
   ]
  },
  {
   "cell_type": "markdown",
   "metadata": {},
   "source": [
    "### Setting up Vanna"
   ]
  },
  {
   "cell_type": "code",
   "execution_count": 2,
   "metadata": {},
   "outputs": [],
   "source": [
    "# Connecting to vanna, we are using the defaul LLM (GPT 3.5) and Vector store (pgvector) provided by vanna\n",
    "\n",
    "load_dotenv()\n",
    "vanna_api_key = os.getenv(\"vanna_api_key\")\n",
    "vanna_model_name = \"vannagetsomecoffee\"\n",
    "vn = VannaDefault(model=vanna_model_name, api_key=vanna_api_key)"
   ]
  },
  {
   "cell_type": "markdown",
   "metadata": {},
   "source": [
    "### Setting up a template sqlite db"
   ]
  },
  {
   "cell_type": "code",
   "execution_count": 3,
   "metadata": {},
   "outputs": [],
   "source": [
    "# Using a template db called 'chinook' downloaded from the web\n",
    "db_conn = sqlite3.connect(\"chinook.db\")\n",
    "\n",
    "db_cursor = db_conn.cursor()"
   ]
  },
  {
   "cell_type": "code",
   "execution_count": 8,
   "metadata": {},
   "outputs": [],
   "source": [
    "# This is the query we will use to fetch ddl information to feed to vanna \n",
    "result = db_cursor.execute(\"SELECT type, sql FROM sqlite_master WHERE sql is not null\")\n",
    "\n",
    "# To see that the query fetches uncomment this line below\n",
    "#result.fetchall()"
   ]
  },
  {
   "cell_type": "markdown",
   "metadata": {},
   "source": [
    "### Adding the DB and DB's ddl information to vanna "
   ]
  },
  {
   "cell_type": "code",
   "execution_count": 4,
   "metadata": {},
   "outputs": [],
   "source": [
    "vn.connect_to_sqlite('chinook.db')"
   ]
  },
  {
   "cell_type": "code",
   "execution_count": 6,
   "metadata": {},
   "outputs": [
    {
     "name": "stdout",
     "output_type": "stream",
     "text": [
      "Adding ddl: CREATE TABLE \"albums\"\n",
      "(\n",
      "    [AlbumId] INTEGER PRIMARY KEY AUTOINCREMENT NOT NULL,\n",
      "    [Title] NVARCHAR(160)  NOT NULL,\n",
      "    [ArtistId] INTEGER  NOT NULL,\n",
      "    FOREIGN KEY ([ArtistId]) REFERENCES \"artists\" ([ArtistId]) \n",
      "\t\tON DELETE NO ACTION ON UPDATE NO ACTION\n",
      ")\n",
      "Adding ddl: CREATE TABLE sqlite_sequence(name,seq)\n",
      "Adding ddl: CREATE TABLE \"artists\"\n",
      "(\n",
      "    [ArtistId] INTEGER PRIMARY KEY AUTOINCREMENT NOT NULL,\n",
      "    [Name] NVARCHAR(120)\n",
      ")\n",
      "Adding ddl: CREATE TABLE \"customers\"\n",
      "(\n",
      "    [CustomerId] INTEGER PRIMARY KEY AUTOINCREMENT NOT NULL,\n",
      "    [FirstName] NVARCHAR(40)  NOT NULL,\n",
      "    [LastName] NVARCHAR(20)  NOT NULL,\n",
      "    [Company] NVARCHAR(80),\n",
      "    [Address] NVARCHAR(70),\n",
      "    [City] NVARCHAR(40),\n",
      "    [State] NVARCHAR(40),\n",
      "    [Country] NVARCHAR(40),\n",
      "    [PostalCode] NVARCHAR(10),\n",
      "    [Phone] NVARCHAR(24),\n",
      "    [Fax] NVARCHAR(24),\n",
      "    [Email] NVARCHAR(60)  NOT NULL,\n",
      "    [SupportRepId] INTEGER,\n",
      "    FOREIGN KEY ([SupportRepId]) REFERENCES \"employees\" ([EmployeeId]) \n",
      "\t\tON DELETE NO ACTION ON UPDATE NO ACTION\n",
      ")\n",
      "Adding ddl: CREATE TABLE \"employees\"\n",
      "(\n",
      "    [EmployeeId] INTEGER PRIMARY KEY AUTOINCREMENT NOT NULL,\n",
      "    [LastName] NVARCHAR(20)  NOT NULL,\n",
      "    [FirstName] NVARCHAR(20)  NOT NULL,\n",
      "    [Title] NVARCHAR(30),\n",
      "    [ReportsTo] INTEGER,\n",
      "    [BirthDate] DATETIME,\n",
      "    [HireDate] DATETIME,\n",
      "    [Address] NVARCHAR(70),\n",
      "    [City] NVARCHAR(40),\n",
      "    [State] NVARCHAR(40),\n",
      "    [Country] NVARCHAR(40),\n",
      "    [PostalCode] NVARCHAR(10),\n",
      "    [Phone] NVARCHAR(24),\n",
      "    [Fax] NVARCHAR(24),\n",
      "    [Email] NVARCHAR(60),\n",
      "    FOREIGN KEY ([ReportsTo]) REFERENCES \"employees\" ([EmployeeId]) \n",
      "\t\tON DELETE NO ACTION ON UPDATE NO ACTION\n",
      ")\n",
      "Adding ddl: CREATE TABLE \"genres\"\n",
      "(\n",
      "    [GenreId] INTEGER PRIMARY KEY AUTOINCREMENT NOT NULL,\n",
      "    [Name] NVARCHAR(120)\n",
      ")\n",
      "Adding ddl: CREATE TABLE \"invoices\"\n",
      "(\n",
      "    [InvoiceId] INTEGER PRIMARY KEY AUTOINCREMENT NOT NULL,\n",
      "    [CustomerId] INTEGER  NOT NULL,\n",
      "    [InvoiceDate] DATETIME  NOT NULL,\n",
      "    [BillingAddress] NVARCHAR(70),\n",
      "    [BillingCity] NVARCHAR(40),\n",
      "    [BillingState] NVARCHAR(40),\n",
      "    [BillingCountry] NVARCHAR(40),\n",
      "    [BillingPostalCode] NVARCHAR(10),\n",
      "    [Total] NUMERIC(10,2)  NOT NULL,\n",
      "    FOREIGN KEY ([CustomerId]) REFERENCES \"customers\" ([CustomerId]) \n",
      "\t\tON DELETE NO ACTION ON UPDATE NO ACTION\n",
      ")\n",
      "Adding ddl: CREATE TABLE \"invoice_items\"\n",
      "(\n",
      "    [InvoiceLineId] INTEGER PRIMARY KEY AUTOINCREMENT NOT NULL,\n",
      "    [InvoiceId] INTEGER  NOT NULL,\n",
      "    [TrackId] INTEGER  NOT NULL,\n",
      "    [UnitPrice] NUMERIC(10,2)  NOT NULL,\n",
      "    [Quantity] INTEGER  NOT NULL,\n",
      "    FOREIGN KEY ([InvoiceId]) REFERENCES \"invoices\" ([InvoiceId]) \n",
      "\t\tON DELETE NO ACTION ON UPDATE NO ACTION,\n",
      "    FOREIGN KEY ([TrackId]) REFERENCES \"tracks\" ([TrackId]) \n",
      "\t\tON DELETE NO ACTION ON UPDATE NO ACTION\n",
      ")\n",
      "Adding ddl: CREATE TABLE \"media_types\"\n",
      "(\n",
      "    [MediaTypeId] INTEGER PRIMARY KEY AUTOINCREMENT NOT NULL,\n",
      "    [Name] NVARCHAR(120)\n",
      ")\n",
      "Adding ddl: CREATE TABLE \"playlists\"\n",
      "(\n",
      "    [PlaylistId] INTEGER PRIMARY KEY AUTOINCREMENT NOT NULL,\n",
      "    [Name] NVARCHAR(120)\n",
      ")\n",
      "Adding ddl: CREATE TABLE \"playlist_track\"\n",
      "(\n",
      "    [PlaylistId] INTEGER  NOT NULL,\n",
      "    [TrackId] INTEGER  NOT NULL,\n",
      "    CONSTRAINT [PK_PlaylistTrack] PRIMARY KEY  ([PlaylistId], [TrackId]),\n",
      "    FOREIGN KEY ([PlaylistId]) REFERENCES \"playlists\" ([PlaylistId]) \n",
      "\t\tON DELETE NO ACTION ON UPDATE NO ACTION,\n",
      "    FOREIGN KEY ([TrackId]) REFERENCES \"tracks\" ([TrackId]) \n",
      "\t\tON DELETE NO ACTION ON UPDATE NO ACTION\n",
      ")\n",
      "Adding ddl: CREATE TABLE \"tracks\"\n",
      "(\n",
      "    [TrackId] INTEGER PRIMARY KEY AUTOINCREMENT NOT NULL,\n",
      "    [Name] NVARCHAR(200)  NOT NULL,\n",
      "    [AlbumId] INTEGER,\n",
      "    [MediaTypeId] INTEGER  NOT NULL,\n",
      "    [GenreId] INTEGER,\n",
      "    [Composer] NVARCHAR(220),\n",
      "    [Milliseconds] INTEGER  NOT NULL,\n",
      "    [Bytes] INTEGER,\n",
      "    [UnitPrice] NUMERIC(10,2)  NOT NULL,\n",
      "    FOREIGN KEY ([AlbumId]) REFERENCES \"albums\" ([AlbumId]) \n",
      "\t\tON DELETE NO ACTION ON UPDATE NO ACTION,\n",
      "    FOREIGN KEY ([GenreId]) REFERENCES \"genres\" ([GenreId]) \n",
      "\t\tON DELETE NO ACTION ON UPDATE NO ACTION,\n",
      "    FOREIGN KEY ([MediaTypeId]) REFERENCES \"media_types\" ([MediaTypeId]) \n",
      "\t\tON DELETE NO ACTION ON UPDATE NO ACTION\n",
      ")\n",
      "Adding ddl: CREATE INDEX [IFK_AlbumArtistId] ON \"albums\" ([ArtistId])\n",
      "Adding ddl: CREATE INDEX [IFK_CustomerSupportRepId] ON \"customers\" ([SupportRepId])\n",
      "Adding ddl: CREATE INDEX [IFK_EmployeeReportsTo] ON \"employees\" ([ReportsTo])\n",
      "Adding ddl: CREATE INDEX [IFK_InvoiceCustomerId] ON \"invoices\" ([CustomerId])\n",
      "Adding ddl: CREATE INDEX [IFK_InvoiceLineInvoiceId] ON \"invoice_items\" ([InvoiceId])\n",
      "Adding ddl: CREATE INDEX [IFK_InvoiceLineTrackId] ON \"invoice_items\" ([TrackId])\n",
      "Adding ddl: CREATE INDEX [IFK_PlaylistTrackTrackId] ON \"playlist_track\" ([TrackId])\n",
      "Adding ddl: CREATE INDEX [IFK_TrackAlbumId] ON \"tracks\" ([AlbumId])\n",
      "Adding ddl: CREATE INDEX [IFK_TrackGenreId] ON \"tracks\" ([GenreId])\n",
      "Adding ddl: CREATE INDEX [IFK_TrackMediaTypeId] ON \"tracks\" ([MediaTypeId])\n",
      "Adding ddl: CREATE TABLE sqlite_stat1(tbl,idx,stat)\n"
     ]
    }
   ],
   "source": [
    "df_ddl = vn.run_sql(\"SELECT type, sql FROM sqlite_master WHERE sql is not null\")\n",
    "\n",
    "for ddl in df_ddl['sql'].to_list():\n",
    "  vn.train(ddl=ddl)"
   ]
  },
  {
   "cell_type": "code",
   "execution_count": null,
   "metadata": {},
   "outputs": [],
   "source": [
    "vn.get_training_data()"
   ]
  },
  {
   "cell_type": "markdown",
   "metadata": {},
   "source": [
    "### Querying Vanna"
   ]
  },
  {
   "cell_type": "code",
   "execution_count": 7,
   "metadata": {},
   "outputs": [
    {
     "name": "stdout",
     "output_type": "stream",
     "text": [
      "SQL Prompt: [{'role': 'system', 'content': 'You are a SQLite expert. Please help to generate a SQL query to answer the question. Your response should ONLY be based on the given context and follow the response guidelines and format instructions. \\n===Tables \\nCREATE TABLE \"customers\"\\r\\n(\\r\\n    [CustomerId] INTEGER PRIMARY KEY AUTOINCREMENT NOT NULL,\\r\\n    [FirstName] NVARCHAR(40)  NOT NULL,\\r\\n    [LastName] NVARCHAR(20)  NOT NULL,\\r\\n    [Company] NVARCHAR(80),\\r\\n    [Address] NVARCHAR(70),\\r\\n    [City] NVARCHAR(40),\\r\\n    [State] NVARCHAR(40),\\r\\n    [Country] NVARCHAR(40),\\r\\n    [PostalCode] NVARCHAR(10),\\r\\n    [Phone] NVARCHAR(24),\\r\\n    [Fax] NVARCHAR(24),\\r\\n    [Email] NVARCHAR(60)  NOT NULL,\\r\\n    [SupportRepId] INTEGER,\\r\\n    FOREIGN KEY ([SupportRepId]) REFERENCES \"employees\" ([EmployeeId]) \\r\\n\\t\\tON DELETE NO ACTION ON UPDATE NO ACTION\\r\\n)\\n\\nCREATE TABLE \"invoices\"\\r\\n(\\r\\n    [InvoiceId] INTEGER PRIMARY KEY AUTOINCREMENT NOT NULL,\\r\\n    [CustomerId] INTEGER  NOT NULL,\\r\\n    [InvoiceDate] DATETIME  NOT NULL,\\r\\n    [BillingAddress] NVARCHAR(70),\\r\\n    [BillingCity] NVARCHAR(40),\\r\\n    [BillingState] NVARCHAR(40),\\r\\n    [BillingCountry] NVARCHAR(40),\\r\\n    [BillingPostalCode] NVARCHAR(10),\\r\\n    [Total] NUMERIC(10,2)  NOT NULL,\\r\\n    FOREIGN KEY ([CustomerId]) REFERENCES \"customers\" ([CustomerId]) \\r\\n\\t\\tON DELETE NO ACTION ON UPDATE NO ACTION\\r\\n)\\n\\nCREATE TABLE \"employees\"\\r\\n(\\r\\n    [EmployeeId] INTEGER PRIMARY KEY AUTOINCREMENT NOT NULL,\\r\\n    [LastName] NVARCHAR(20)  NOT NULL,\\r\\n    [FirstName] NVARCHAR(20)  NOT NULL,\\r\\n    [Title] NVARCHAR(30),\\r\\n    [ReportsTo] INTEGER,\\r\\n    [BirthDate] DATETIME,\\r\\n    [HireDate] DATETIME,\\r\\n    [Address] NVARCHAR(70),\\r\\n    [City] NVARCHAR(40),\\r\\n    [State] NVARCHAR(40),\\r\\n    [Country] NVARCHAR(40),\\r\\n    [PostalCode] NVARCHAR(10),\\r\\n    [Phone] NVARCHAR(24),\\r\\n    [Fax] NVARCHAR(24),\\r\\n    [Email] NVARCHAR(60),\\r\\n    FOREIGN KEY ([ReportsTo]) REFERENCES \"employees\" ([EmployeeId]) \\r\\n\\t\\tON DELETE NO ACTION ON UPDATE NO ACTION\\r\\n)\\n\\nCREATE INDEX [IFK_InvoiceCustomerId] ON \"invoices\" ([CustomerId])\\n\\nCREATE INDEX [IFK_CustomerSupportRepId] ON \"customers\" ([SupportRepId])\\n\\nCREATE TABLE \"artists\"\\r\\n(\\r\\n    [ArtistId] INTEGER PRIMARY KEY AUTOINCREMENT NOT NULL,\\r\\n    [Name] NVARCHAR(120)\\r\\n)\\n\\nCREATE TABLE \"invoice_items\"\\r\\n(\\r\\n    [InvoiceLineId] INTEGER PRIMARY KEY AUTOINCREMENT NOT NULL,\\r\\n    [InvoiceId] INTEGER  NOT NULL,\\r\\n    [TrackId] INTEGER  NOT NULL,\\r\\n    [UnitPrice] NUMERIC(10,2)  NOT NULL,\\r\\n    [Quantity] INTEGER  NOT NULL,\\r\\n    FOREIGN KEY ([InvoiceId]) REFERENCES \"invoices\" ([InvoiceId]) \\r\\n\\t\\tON DELETE NO ACTION ON UPDATE NO ACTION,\\r\\n    FOREIGN KEY ([TrackId]) REFERENCES \"tracks\" ([TrackId]) \\r\\n\\t\\tON DELETE NO ACTION ON UPDATE NO ACTION\\r\\n)\\n\\nCREATE TABLE sqlite_sequence(name,seq)\\n\\nCREATE TABLE \"genres\"\\r\\n(\\r\\n    [GenreId] INTEGER PRIMARY KEY AUTOINCREMENT NOT NULL,\\r\\n    [Name] NVARCHAR(120)\\r\\n)\\n\\nCREATE TABLE \"playlists\"\\r\\n(\\r\\n    [PlaylistId] INTEGER PRIMARY KEY AUTOINCREMENT NOT NULL,\\r\\n    [Name] NVARCHAR(120)\\r\\n)\\n\\n===Response Guidelines \\n1. If the provided context is sufficient, please generate a valid SQL query without any explanations for the question. \\n2. If the provided context is almost sufficient but requires knowledge of a specific string in a particular column, please generate an intermediate SQL query to find the distinct strings in that column. Prepend the query with a comment saying intermediate_sql \\n3. If the provided context is insufficient, please explain why it can\\'t be generated. \\n4. Please use the most relevant table(s). \\n5. If the question has been asked and answered before, please repeat the answer exactly as it was given before. \\n6. Ensure that the output SQL is SQLite-compliant and executable, and free of syntax errors. \\n'}, {'role': 'user', 'content': 'How many customers are from brazil?'}]\n",
      "LLM Response: ```sql\n",
      "SELECT COUNT(*) AS TotalCustomersFromBrazil\n",
      "FROM customers\n",
      "WHERE Country = 'Brazil';\n",
      "```\n",
      "Extracted SQL: SELECT COUNT(*) AS TotalCustomersFromBrazil\n",
      "FROM customers\n",
      "WHERE Country = 'Brazil';\n"
     ]
    }
   ],
   "source": [
    "# Don't use vn.ask it calls several functions : generate_sql, run_sql, and two functions for creating plots\n",
    "#vn.ask(question=\"How many customers are from brazil?\")\n",
    "query = vn.generate_sql(\"How many customers are from brazil?\")"
   ]
  },
  {
   "cell_type": "code",
   "execution_count": 8,
   "metadata": {},
   "outputs": [
    {
     "data": {
      "text/html": [
       "<div>\n",
       "<style scoped>\n",
       "    .dataframe tbody tr th:only-of-type {\n",
       "        vertical-align: middle;\n",
       "    }\n",
       "\n",
       "    .dataframe tbody tr th {\n",
       "        vertical-align: top;\n",
       "    }\n",
       "\n",
       "    .dataframe thead th {\n",
       "        text-align: right;\n",
       "    }\n",
       "</style>\n",
       "<table border=\"1\" class=\"dataframe\">\n",
       "  <thead>\n",
       "    <tr style=\"text-align: right;\">\n",
       "      <th></th>\n",
       "      <th>TotalCustomersFromBrazil</th>\n",
       "    </tr>\n",
       "  </thead>\n",
       "  <tbody>\n",
       "    <tr>\n",
       "      <th>0</th>\n",
       "      <td>5</td>\n",
       "    </tr>\n",
       "  </tbody>\n",
       "</table>\n",
       "</div>"
      ],
      "text/plain": [
       "   TotalCustomersFromBrazil\n",
       "0                         5"
      ]
     },
     "execution_count": 8,
     "metadata": {},
     "output_type": "execute_result"
    }
   ],
   "source": [
    "vn.run_sql(query)"
   ]
  },
  {
   "cell_type": "code",
   "execution_count": 10,
   "metadata": {},
   "outputs": [
    {
     "data": {
      "text/plain": [
       "[(1,\n",
       "  'Luís',\n",
       "  'Gonçalves',\n",
       "  'Embraer - Empresa Brasileira de Aeronáutica S.A.',\n",
       "  'Av. Brigadeiro Faria Lima, 2170',\n",
       "  'São José dos Campos',\n",
       "  'SP',\n",
       "  'Brazil',\n",
       "  '12227-000',\n",
       "  '+55 (12) 3923-5555',\n",
       "  '+55 (12) 3923-5566',\n",
       "  'luisg@embraer.com.br',\n",
       "  3),\n",
       " (10,\n",
       "  'Eduardo',\n",
       "  'Martins',\n",
       "  'Woodstock Discos',\n",
       "  'Rua Dr. Falcão Filho, 155',\n",
       "  'São Paulo',\n",
       "  'SP',\n",
       "  'Brazil',\n",
       "  '01007-010',\n",
       "  '+55 (11) 3033-5446',\n",
       "  '+55 (11) 3033-4564',\n",
       "  'eduardo@woodstock.com.br',\n",
       "  4),\n",
       " (11,\n",
       "  'Alexandre',\n",
       "  'Rocha',\n",
       "  'Banco do Brasil S.A.',\n",
       "  'Av. Paulista, 2022',\n",
       "  'São Paulo',\n",
       "  'SP',\n",
       "  'Brazil',\n",
       "  '01310-200',\n",
       "  '+55 (11) 3055-3278',\n",
       "  '+55 (11) 3055-8131',\n",
       "  'alero@uol.com.br',\n",
       "  5),\n",
       " (12,\n",
       "  'Roberto',\n",
       "  'Almeida',\n",
       "  'Riotur',\n",
       "  'Praça Pio X, 119',\n",
       "  'Rio de Janeiro',\n",
       "  'RJ',\n",
       "  'Brazil',\n",
       "  '20040-020',\n",
       "  '+55 (21) 2271-7000',\n",
       "  '+55 (21) 2271-7070',\n",
       "  'roberto.almeida@riotur.gov.br',\n",
       "  3),\n",
       " (13,\n",
       "  'Fernanda',\n",
       "  'Ramos',\n",
       "  None,\n",
       "  'Qe 7 Bloco G',\n",
       "  'Brasília',\n",
       "  'DF',\n",
       "  'Brazil',\n",
       "  '71020-677',\n",
       "  '+55 (61) 3363-5547',\n",
       "  '+55 (61) 3363-7855',\n",
       "  'fernadaramos4@uol.com.br',\n",
       "  4)]"
      ]
     },
     "execution_count": 10,
     "metadata": {},
     "output_type": "execute_result"
    }
   ],
   "source": [
    "res = db_cursor.execute(\"select * from customers where country = 'Brazil';\")\n",
    "\n",
    "res.fetchall()"
   ]
  },
  {
   "cell_type": "code",
   "execution_count": null,
   "metadata": {},
   "outputs": [],
   "source": []
  }
 ],
 "metadata": {
  "kernelspec": {
   "display_name": ".venv",
   "language": "python",
   "name": "python3"
  },
  "language_info": {
   "codemirror_mode": {
    "name": "ipython",
    "version": 3
   },
   "file_extension": ".py",
   "mimetype": "text/x-python",
   "name": "python",
   "nbconvert_exporter": "python",
   "pygments_lexer": "ipython3",
   "version": "3.12.4"
  }
 },
 "nbformat": 4,
 "nbformat_minor": 2
}
